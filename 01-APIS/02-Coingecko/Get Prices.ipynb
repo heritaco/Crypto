{
 "cells": [
  {
   "cell_type": "markdown",
   "metadata": {},
   "source": [
    "# **Download Data**"
   ]
  },
  {
   "cell_type": "code",
   "execution_count": 1,
   "metadata": {},
   "outputs": [],
   "source": [
    "import pandas as pd\n",
    "import requests\n",
    "import time\n",
    "import os\n",
    "from datetime import datetime"
   ]
  },
  {
   "cell_type": "code",
   "execution_count": 2,
   "metadata": {},
   "outputs": [],
   "source": [
    "def get_crypto_prices(crypto_id, currency=\"usd\", days=365):\n",
    "\n",
    "    url = f\"https://api.coingecko.com/api/v3/coins/{crypto_id}/market_chart\"\n",
    "    params = {\"vs_currency\": currency, \"days\": days, \"interval\": \"daily\"}\n",
    "    response = requests.get(url, params=params)\n",
    "\n",
    "    # Si la respuesta es exitosa, se procesan los datos\n",
    "    if response.status_code == 200:\n",
    "\n",
    "        # Se convierte la respuesta a un DataFrame\n",
    "        # data = response.json()[\"prices\"]\n",
    "        # df = pd.DataFrame(data, columns=[\"timestamp\", \"adjusted_price\"])\n",
    "        # df[\"timestamp\"] = pd.to_datetime(df[\"timestamp\"], unit=\"ms\")\n",
    "\n",
    "        data = response.json()\n",
    "        df = pd.DataFrame(data)\n",
    "        \n",
    "        # Se guarda el archivo en la carpeta \"crypto_data_YYYY-MM-DD\"\n",
    "        today = datetime.now().strftime(\"%Y-%m-%d\")\n",
    "        folder = f\"crypto-prices-{today}-{days}\"\n",
    "        \n",
    "        if not os.path.exists(folder):\n",
    "            os.makedirs(folder)\n",
    "\n",
    "        filename = f\"{folder}/{crypto_id}.csv\"\n",
    "        df.to_csv(filename, index=False)\n",
    "\n",
    "        print(f\"Precios de {crypto_id} guardados en {filename}\")        \n",
    "        return None # No hay errores\n",
    "    \n",
    "    \n",
    "    # Si la respuesta no es exitosa, se imprime un mensaje de error\n",
    "    else:\n",
    "        print(f\"Error al obtener datos de {crypto_id}: {response.status_code}\")\n",
    "        \n",
    "        if response.status_code == 429:\n",
    "            print(f\"Demasiadas peticiones. Esperando {response.headers['Retry-After']} segundos.\")\n",
    "            time.sleep(int(response.headers[\"Retry-After\"]))\n",
    "            get_crypto_prices(crypto_id, currency, days)\n",
    "            \n",
    "        return response.status_code"
   ]
  },
  {
   "cell_type": "code",
   "execution_count": null,
   "metadata": {},
   "outputs": [],
   "source": [
    "# Lista de 50 criptomonedas\n",
    "cryptos = [\n",
    "    \"bitcoin\", \"ethereum\", \"tether\", \"binancecoin\", \"usd-coin\",\n",
    "    \"ripple\", \"cardano\", \"solana\", \"dogecoin\", \"polkadot\",\n",
    "    \"shiba-inu\", \"dai\", \"tron\", \"avalanche-2\", \"wrapped-bitcoin\",\n",
    "    \"uniswap\", \"litecoin\", \"chainlink\", \"cosmos\", \"stellar\",\n",
    "    \"monero\", \"algorand\", \"bitcoin-cash\", \"vechain\", \"filecoin\",\n",
    "    \"internet-computer\", \"hedera\", \"decentraland\", \"the-sandbox\", \"tezos\",\n",
    "    \"elrond-erd-2\", \"theta-token\", \"aave\", \"eos\", \"pancakeswap-token\",\n",
    "    \"flow\", \"zcash\", \"maker\", \"klay-token\", \"neo\",\n",
    "    \"iota\", \"fantom\", \"kusama\", \"waves\", \"dash\",\n",
    "    \"synthetix-network-token\", \"compound\", \"chiliz\", \"enjincoin\"\n",
    "]"
   ]
  },
  {
   "cell_type": "code",
   "execution_count": 6,
   "metadata": {},
   "outputs": [
    {
     "name": "stdout",
     "output_type": "stream",
     "text": [
      "Error al obtener datos de hedera: 404\n",
      "Precios de decentraland guardados en crypto-prices-2025-03-14-365/decentraland.csv\n",
      "Precios de the-sandbox guardados en crypto-prices-2025-03-14-365/the-sandbox.csv\n",
      "Precios de tezos guardados en crypto-prices-2025-03-14-365/tezos.csv\n",
      "Precios de elrond-erd-2 guardados en crypto-prices-2025-03-14-365/elrond-erd-2.csv\n",
      "Error al obtener datos de theta-token: 429\n",
      "Demasiadas peticiones. Esperando 60 segundos.\n",
      "Precios de theta-token guardados en crypto-prices-2025-03-14-365/theta-token.csv\n",
      "Precios de aave guardados en crypto-prices-2025-03-14-365/aave.csv\n",
      "Precios de eos guardados en crypto-prices-2025-03-14-365/eos.csv\n",
      "Precios de pancakeswap-token guardados en crypto-prices-2025-03-14-365/pancakeswap-token.csv\n",
      "Precios de flow guardados en crypto-prices-2025-03-14-365/flow.csv\n",
      "Error al obtener datos de zcash: 429\n",
      "Demasiadas peticiones. Esperando 60 segundos.\n",
      "Precios de zcash guardados en crypto-prices-2025-03-14-365/zcash.csv\n",
      "Precios de maker guardados en crypto-prices-2025-03-14-365/maker.csv\n",
      "Precios de klay-token guardados en crypto-prices-2025-03-14-365/klay-token.csv\n",
      "Precios de neo guardados en crypto-prices-2025-03-14-365/neo.csv\n",
      "Precios de iota guardados en crypto-prices-2025-03-14-365/iota.csv\n",
      "Precios de fantom guardados en crypto-prices-2025-03-14-365/fantom.csv\n",
      "Error al obtener datos de kusama: 429\n",
      "Demasiadas peticiones. Esperando 60 segundos.\n",
      "Precios de kusama guardados en crypto-prices-2025-03-14-365/kusama.csv\n",
      "Precios de waves guardados en crypto-prices-2025-03-14-365/waves.csv\n",
      "Error al obtener datos de dash: 429\n",
      "Demasiadas peticiones. Esperando 60 segundos.\n",
      "Precios de dash guardados en crypto-prices-2025-03-14-365/dash.csv\n",
      "Error al obtener datos de synthetix-network-token: 404\n",
      "Error al obtener datos de compound: 404\n",
      "Precios de chiliz guardados en crypto-prices-2025-03-14-365/chiliz.csv\n",
      "Error al obtener datos de enjincoin: 429\n",
      "Demasiadas peticiones. Esperando 60 segundos.\n",
      "Precios de enjincoin guardados en crypto-prices-2025-03-14-365/enjincoin.csv\n"
     ]
    }
   ],
   "source": [
    "for crypto in cryptos:\n",
    "    get_crypto_prices(crypto, days=365)"
   ]
  },
  {
   "cell_type": "markdown",
   "metadata": {},
   "source": [
    "# **All in One**"
   ]
  },
  {
   "cell_type": "code",
   "execution_count": 9,
   "metadata": {},
   "outputs": [],
   "source": [
    "csv_folder = r'C:\\Heri\\GitHub\\Crypto\\01-APIS\\02-Coingecko\\crypto-prices-2025-03-14-365'"
   ]
  },
  {
   "cell_type": "code",
   "execution_count": 10,
   "metadata": {},
   "outputs": [
    {
     "ename": "KeyError",
     "evalue": "'timestamp'",
     "output_type": "error",
     "traceback": [
      "\u001b[1;31m---------------------------------------------------------------------------\u001b[0m",
      "\u001b[1;31mKeyError\u001b[0m                                  Traceback (most recent call last)",
      "File \u001b[1;32mc:\\Users\\herie\\AppData\\Local\\Programs\\Python\\Python312\\Lib\\site-packages\\pandas\\core\\indexes\\base.py:3805\u001b[0m, in \u001b[0;36mIndex.get_loc\u001b[1;34m(self, key)\u001b[0m\n\u001b[0;32m   3804\u001b[0m \u001b[38;5;28;01mtry\u001b[39;00m:\n\u001b[1;32m-> 3805\u001b[0m     \u001b[38;5;28;01mreturn\u001b[39;00m \u001b[38;5;28;43mself\u001b[39;49m\u001b[38;5;241;43m.\u001b[39;49m\u001b[43m_engine\u001b[49m\u001b[38;5;241;43m.\u001b[39;49m\u001b[43mget_loc\u001b[49m\u001b[43m(\u001b[49m\u001b[43mcasted_key\u001b[49m\u001b[43m)\u001b[49m\n\u001b[0;32m   3806\u001b[0m \u001b[38;5;28;01mexcept\u001b[39;00m \u001b[38;5;167;01mKeyError\u001b[39;00m \u001b[38;5;28;01mas\u001b[39;00m err:\n",
      "File \u001b[1;32mindex.pyx:167\u001b[0m, in \u001b[0;36mpandas._libs.index.IndexEngine.get_loc\u001b[1;34m()\u001b[0m\n",
      "File \u001b[1;32mindex.pyx:196\u001b[0m, in \u001b[0;36mpandas._libs.index.IndexEngine.get_loc\u001b[1;34m()\u001b[0m\n",
      "File \u001b[1;32mpandas\\\\_libs\\\\hashtable_class_helper.pxi:7081\u001b[0m, in \u001b[0;36mpandas._libs.hashtable.PyObjectHashTable.get_item\u001b[1;34m()\u001b[0m\n",
      "File \u001b[1;32mpandas\\\\_libs\\\\hashtable_class_helper.pxi:7089\u001b[0m, in \u001b[0;36mpandas._libs.hashtable.PyObjectHashTable.get_item\u001b[1;34m()\u001b[0m\n",
      "\u001b[1;31mKeyError\u001b[0m: 'timestamp'",
      "\nThe above exception was the direct cause of the following exception:\n",
      "\u001b[1;31mKeyError\u001b[0m                                  Traceback (most recent call last)",
      "Cell \u001b[1;32mIn[10], line 8\u001b[0m\n\u001b[0;32m      6\u001b[0m file_path \u001b[38;5;241m=\u001b[39m os\u001b[38;5;241m.\u001b[39mpath\u001b[38;5;241m.\u001b[39mjoin(csv_folder, file)\n\u001b[0;32m      7\u001b[0m df \u001b[38;5;241m=\u001b[39m pd\u001b[38;5;241m.\u001b[39mread_csv(file_path)  \u001b[38;5;66;03m# Leer el CSV\u001b[39;00m\n\u001b[1;32m----> 8\u001b[0m df[\u001b[38;5;124m\"\u001b[39m\u001b[38;5;124mtimestamp\u001b[39m\u001b[38;5;124m\"\u001b[39m] \u001b[38;5;241m=\u001b[39m pd\u001b[38;5;241m.\u001b[39mto_datetime(\u001b[43mdf\u001b[49m\u001b[43m[\u001b[49m\u001b[38;5;124;43m\"\u001b[39;49m\u001b[38;5;124;43mtimestamp\u001b[39;49m\u001b[38;5;124;43m\"\u001b[39;49m\u001b[43m]\u001b[49m)  \u001b[38;5;66;03m# Asegurar formato datetime\u001b[39;00m\n\u001b[0;32m      9\u001b[0m df \u001b[38;5;241m=\u001b[39m df\u001b[38;5;241m.\u001b[39mset_index(\u001b[38;5;124m\"\u001b[39m\u001b[38;5;124mtimestamp\u001b[39m\u001b[38;5;124m\"\u001b[39m)  \u001b[38;5;66;03m# Usar fecha como índice\u001b[39;00m\n\u001b[0;32m     10\u001b[0m all_data[crypto_name] \u001b[38;5;241m=\u001b[39m df[\u001b[38;5;124m\"\u001b[39m\u001b[38;5;124madjusted_price\u001b[39m\u001b[38;5;124m\"\u001b[39m]  \u001b[38;5;66;03m# Guardar precios ajustados\u001b[39;00m\n",
      "File \u001b[1;32mc:\\Users\\herie\\AppData\\Local\\Programs\\Python\\Python312\\Lib\\site-packages\\pandas\\core\\frame.py:4090\u001b[0m, in \u001b[0;36mDataFrame.__getitem__\u001b[1;34m(self, key)\u001b[0m\n\u001b[0;32m   4088\u001b[0m \u001b[38;5;28;01mif\u001b[39;00m \u001b[38;5;28mself\u001b[39m\u001b[38;5;241m.\u001b[39mcolumns\u001b[38;5;241m.\u001b[39mnlevels \u001b[38;5;241m>\u001b[39m \u001b[38;5;241m1\u001b[39m:\n\u001b[0;32m   4089\u001b[0m     \u001b[38;5;28;01mreturn\u001b[39;00m \u001b[38;5;28mself\u001b[39m\u001b[38;5;241m.\u001b[39m_getitem_multilevel(key)\n\u001b[1;32m-> 4090\u001b[0m indexer \u001b[38;5;241m=\u001b[39m \u001b[38;5;28;43mself\u001b[39;49m\u001b[38;5;241;43m.\u001b[39;49m\u001b[43mcolumns\u001b[49m\u001b[38;5;241;43m.\u001b[39;49m\u001b[43mget_loc\u001b[49m\u001b[43m(\u001b[49m\u001b[43mkey\u001b[49m\u001b[43m)\u001b[49m\n\u001b[0;32m   4091\u001b[0m \u001b[38;5;28;01mif\u001b[39;00m is_integer(indexer):\n\u001b[0;32m   4092\u001b[0m     indexer \u001b[38;5;241m=\u001b[39m [indexer]\n",
      "File \u001b[1;32mc:\\Users\\herie\\AppData\\Local\\Programs\\Python\\Python312\\Lib\\site-packages\\pandas\\core\\indexes\\base.py:3812\u001b[0m, in \u001b[0;36mIndex.get_loc\u001b[1;34m(self, key)\u001b[0m\n\u001b[0;32m   3807\u001b[0m     \u001b[38;5;28;01mif\u001b[39;00m \u001b[38;5;28misinstance\u001b[39m(casted_key, \u001b[38;5;28mslice\u001b[39m) \u001b[38;5;129;01mor\u001b[39;00m (\n\u001b[0;32m   3808\u001b[0m         \u001b[38;5;28misinstance\u001b[39m(casted_key, abc\u001b[38;5;241m.\u001b[39mIterable)\n\u001b[0;32m   3809\u001b[0m         \u001b[38;5;129;01mand\u001b[39;00m \u001b[38;5;28many\u001b[39m(\u001b[38;5;28misinstance\u001b[39m(x, \u001b[38;5;28mslice\u001b[39m) \u001b[38;5;28;01mfor\u001b[39;00m x \u001b[38;5;129;01min\u001b[39;00m casted_key)\n\u001b[0;32m   3810\u001b[0m     ):\n\u001b[0;32m   3811\u001b[0m         \u001b[38;5;28;01mraise\u001b[39;00m InvalidIndexError(key)\n\u001b[1;32m-> 3812\u001b[0m     \u001b[38;5;28;01mraise\u001b[39;00m \u001b[38;5;167;01mKeyError\u001b[39;00m(key) \u001b[38;5;28;01mfrom\u001b[39;00m \u001b[38;5;21;01merr\u001b[39;00m\n\u001b[0;32m   3813\u001b[0m \u001b[38;5;28;01mexcept\u001b[39;00m \u001b[38;5;167;01mTypeError\u001b[39;00m:\n\u001b[0;32m   3814\u001b[0m     \u001b[38;5;66;03m# If we have a listlike key, _check_indexing_error will raise\u001b[39;00m\n\u001b[0;32m   3815\u001b[0m     \u001b[38;5;66;03m#  InvalidIndexError. Otherwise we fall through and re-raise\u001b[39;00m\n\u001b[0;32m   3816\u001b[0m     \u001b[38;5;66;03m#  the TypeError.\u001b[39;00m\n\u001b[0;32m   3817\u001b[0m     \u001b[38;5;28mself\u001b[39m\u001b[38;5;241m.\u001b[39m_check_indexing_error(key)\n",
      "\u001b[1;31mKeyError\u001b[0m: 'timestamp'"
     ]
    }
   ],
   "source": [
    "all_data = {}  # Diccionario para almacenar datos de cada criptomoneda\n",
    "\n",
    "for file in os.listdir(csv_folder):\n",
    "    if file.endswith(\".csv\"):\n",
    "        crypto_name = file.replace(\".csv\", \"\")  # Obtener nombre de la cripto\n",
    "        file_path = os.path.join(csv_folder, file)\n",
    "        df = pd.read_csv(file_path)  # Leer el CSV\n",
    "        df[\"timestamp\"] = pd.to_datetime(df[\"timestamp\"])  # Asegurar formato datetime\n",
    "        df = df.set_index(\"timestamp\")  # Usar fecha como índice\n",
    "        all_data[crypto_name] = df[\"adjusted_price\"]  # Guardar precios ajustados\n",
    "\n",
    "# Crear DataFrame con todos los datos\n",
    "data_crypto = pd.DataFrame(all_data)"
   ]
  },
  {
   "cell_type": "code",
   "execution_count": null,
   "metadata": {},
   "outputs": [],
   "source": [
    "data_crypto.dropna(inplace=True)  # Eliminar filas con valores nulos"
   ]
  },
  {
   "cell_type": "markdown",
   "metadata": {},
   "source": [
    "# **Create the average**"
   ]
  },
  {
   "cell_type": "code",
   "execution_count": null,
   "metadata": {},
   "outputs": [],
   "source": [
    "# Calculate the average of all columns for each row\n",
    "data_crypto['average'] = data_crypto.mean(axis=1)"
   ]
  },
  {
   "cell_type": "code",
   "execution_count": null,
   "metadata": {},
   "outputs": [],
   "source": [
    "data_crypto.to_csv(\"data-crypto.csv\")"
   ]
  }
 ],
 "metadata": {
  "kernelspec": {
   "display_name": "Python 3",
   "language": "python",
   "name": "python3"
  },
  "language_info": {
   "codemirror_mode": {
    "name": "ipython",
    "version": 3
   },
   "file_extension": ".py",
   "mimetype": "text/x-python",
   "name": "python",
   "nbconvert_exporter": "python",
   "pygments_lexer": "ipython3",
   "version": "3.12.1"
  }
 },
 "nbformat": 4,
 "nbformat_minor": 2
}
