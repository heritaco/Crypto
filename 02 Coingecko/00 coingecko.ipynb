{
 "cells": [
  {
   "cell_type": "markdown",
   "metadata": {},
   "source": [
    "# Portafolio de Crypto"
   ]
  },
  {
   "cell_type": "markdown",
   "metadata": {},
   "source": [
    "Acabo de meter mi dinero a Binance, estaba haciendo copy-traiding, pero los que le mueven no saben de esto :p"
   ]
  },
  {
   "cell_type": "markdown",
   "metadata": {},
   "source": [
    "### Código"
   ]
  },
  {
   "cell_type": "code",
   "execution_count": 3,
   "metadata": {},
   "outputs": [],
   "source": [
    "import pandas as pd\n",
    "import requests\n",
    "import time\n",
    "import os\n",
    "from datetime import datetime\n",
    "\n",
    "from pypfopt.efficient_frontier import EfficientFrontier\n",
    "from pypfopt import risk_models\n",
    "from pypfopt import expected_returns"
   ]
  },
  {
   "cell_type": "code",
   "execution_count": null,
   "metadata": {},
   "outputs": [],
   "source": [
    "def get_crypto_prices(crypto_id, currency=\"usd\", days=365):\n",
    "    \"\"\"\n",
    "    Descarga precios ajustados históricos de una criptomoneda específica desde CoinGecko.\n",
    "\n",
    "    Args:\n",
    "        crypto_id (str): ID de la criptomoneda en CoinGecko (ej. \"bitcoin\").\n",
    "        currency (str): Moneda para los precios (por defecto \"usd\").\n",
    "        days (int): Número de días de historial (por defecto 30).\n",
    "    \"\"\"\n",
    "\n",
    "    url = f\"https://api.coingecko.com/api/v3/coins/{crypto_id}/market_chart\"\n",
    "    params = {\"vs_currency\": currency, \"days\": days, \"interval\": \"daily\"}\n",
    "    response = requests.get(url, params=params)\n",
    "\n",
    "    # Si la respuesta es exitosa, se procesan los datos\n",
    "    if response.status_code == 200:\n",
    "\n",
    "        # Se convierte la respuesta a un DataFrame\n",
    "        data = response.json()[\"prices\"]\n",
    "        df = pd.DataFrame(data, columns=[\"timestamp\", \"adjusted_price\"])\n",
    "        df[\"timestamp\"] = pd.to_datetime(df[\"timestamp\"], unit=\"ms\")\n",
    "\n",
    "        # Se guarda el archivo en la carpeta \"crypto_data_YYYY-MM-DD\"\n",
    "        today = datetime.now().strftime(\"%Y-%m-%d\")\n",
    "        folder = f\"crypto_data_{today}_{days}\"\n",
    "        if not os.path.exists(folder):\n",
    "            os.makedirs(folder)\n",
    "\n",
    "        filename = f\"{folder}/{crypto_id}_prices.csv\"\n",
    "        df.to_csv(filename, index=False)\n",
    "\n",
    "        print(f\"Precios de {crypto_id} guardados en {filename}\")        \n",
    "        return None # No hay errores\n",
    "    \n",
    "    \n",
    "    # Si la respuesta no es exitosa, se imprime un mensaje de error\n",
    "    else:\n",
    "        print(f\"Error al obtener datos de {crypto_id}: {response.status_code}\")\n",
    "        \n",
    "        if response.status_code == 429:\n",
    "            print(f\"Demasiadas peticiones. Esperando {response.headers['Retry-After']} segundos.\")\n",
    "            time.sleep(int(response.headers[\"Retry-After\"]))\n",
    "            get_crypto_prices(crypto_id, currency, days)\n",
    "            \n",
    "        return response.status_code"
   ]
  },
  {
   "cell_type": "code",
   "execution_count": null,
   "metadata": {},
   "outputs": [],
   "source": [
    "# Lista de 50 criptomonedas\n",
    "cryptos = [\n",
    "    \"bitcoin\", \"ethereum\", \"tether\", \"binancecoin\", \"usd-coin\",\n",
    "    \"ripple\", \"cardano\", \"solana\", \"dogecoin\", \"polkadot\",\n",
    "    \"shiba-inu\", \"dai\", \"tron\", \"avalanche-2\", \"wrapped-bitcoin\",\n",
    "    \"uniswap\", \"litecoin\", \"chainlink\", \"cosmos\", \"stellar\",\n",
    "    \"monero\", \"algorand\", \"bitcoin-cash\", \"vechain\", \"filecoin\",\n",
    "    \"internet-computer\", \"hedera\", \"decentraland\", \"the-sandbox\", \"tezos\",\n",
    "    \"elrond-erd-2\", \"theta-token\", \"aave\", \"eos\", \"pancakeswap-token\",\n",
    "    \"flow\", \"zcash\", \"maker\", \"klay-token\", \"neo\",\n",
    "    \"iota\", \"fantom\", \"kusama\", \"waves\", \"dash\",\n",
    "    \"synthetix-network-token\", \"compound\", \"chiliz\", \"enjincoin\"\n",
    "]"
   ]
  },
  {
   "cell_type": "code",
   "execution_count": null,
   "metadata": {},
   "outputs": [],
   "source": [
    "for crypto in cryptos:\n",
    "    get_crypto_prices(crypto, days=365)"
   ]
  },
  {
   "cell_type": "code",
   "execution_count": 1,
   "metadata": {},
   "outputs": [],
   "source": [
    "def combine_crypto_csvs(csv_folder):\n",
    "    \"\"\"\n",
    "    Combina múltiples archivos CSV de criptomonedas en un único DataFrame.\n",
    "\n",
    "    Args:\n",
    "        csv_folder (str): Carpeta donde se encuentran los archivos CSV.\n",
    "\n",
    "    Returns:\n",
    "        pd.DataFrame: DataFrame combinado donde las columnas son los nombres\n",
    "                      de las criptomonedas y las filas las fechas.\n",
    "    \"\"\"\n",
    "    all_data = {}  # Diccionario para almacenar datos de cada criptomoneda\n",
    "\n",
    "    for file in os.listdir(csv_folder):\n",
    "        if file.endswith(\".csv\"):\n",
    "            crypto_name = file.replace(\"_prices.csv\", \"\")  # Obtener nombre de la cripto\n",
    "            file_path = os.path.join(csv_folder, file)\n",
    "            df = pd.read_csv(file_path)  # Leer el CSV\n",
    "            df[\"timestamp\"] = pd.to_datetime(df[\"timestamp\"])  # Asegurar formato datetime\n",
    "            df = df.set_index(\"timestamp\")  # Usar fecha como índice\n",
    "            all_data[crypto_name] = df[\"adjusted_price\"]  # Guardar precios ajustados\n",
    "\n",
    "    # Combinar todos los DataFrames en uno solo\n",
    "    combined_df = pd.DataFrame(all_data)\n",
    "    return combined_df"
   ]
  },
  {
   "cell_type": "code",
   "execution_count": 4,
   "metadata": {},
   "outputs": [
    {
     "name": "stdout",
     "output_type": "stream",
     "text": [
      "Datos combinados guardados en 'combined_crypto_prices.csv'.\n",
      "                  aave  algorand  avalanche-2  binancecoin  bitcoin-cash  \\\n",
      "timestamp                                                                  \n",
      "2023-12-22  101.455626  0.223064    46.054342   271.073933    233.085976   \n",
      "2023-12-23  100.128661  0.240550    45.495661   271.431453    238.659824   \n",
      "2023-12-24   99.410580  0.235473    48.114413   271.254301    233.224955   \n",
      "2023-12-25   99.848301  0.231077    47.790837   264.652850    229.111577   \n",
      "2023-12-26  103.189056  0.238222    48.359525   267.178800    234.926906   \n",
      "\n",
      "                 bitcoin   cardano  chainlink     cosmos       dai  ...  \\\n",
      "timestamp                                                           ...   \n",
      "2023-12-22  43849.699599  0.636310  15.279277  11.398848  0.999468  ...   \n",
      "2023-12-23  44003.696022  0.623618  15.497920  11.391916  0.998671  ...   \n",
      "2023-12-24  43752.030885  0.614803  15.681732  11.314822  0.998909  ...   \n",
      "2023-12-25  43034.971063  0.593090  15.291259  11.245503  0.998111  ...   \n",
      "2023-12-26  43638.236302  0.625764  15.612646  11.945480  0.999041  ...   \n",
      "\n",
      "               tezos  the-sandbox  theta-token      tron   uniswap  usd-coin  \\\n",
      "timestamp                                                                      \n",
      "2023-12-22  0.928467     0.545338     1.168133  0.104508  6.169052  1.000498   \n",
      "2023-12-23  0.983034     0.541841     1.157293  0.105108  6.401297  1.000136   \n",
      "2023-12-24  0.988290     0.532471     1.144714  0.106748  6.334079  0.999769   \n",
      "2023-12-25  0.981200     0.564553     1.256954  0.106228  6.854675  0.999055   \n",
      "2023-12-26  1.041883     0.606782     1.419915  0.105938  6.972945  1.000511   \n",
      "\n",
      "             vechain     waves  wrapped-bitcoin      zcash  \n",
      "timestamp                                                   \n",
      "2023-12-22  0.034842  2.636469     43761.077043  29.884749  \n",
      "2023-12-23  0.036054  2.662041     44014.314851  30.340858  \n",
      "2023-12-24  0.035537  2.755174     43728.130123  30.311281  \n",
      "2023-12-25  0.034582  2.633761     43007.399555  30.151456  \n",
      "2023-12-26  0.038160  2.731558     43562.129129  31.229903  \n",
      "\n",
      "[5 rows x 44 columns]\n"
     ]
    }
   ],
   "source": [
    "csv_folder = \"crypto_data_2024-12-19_365\"  # Carpeta donde están los CSV\n",
    "crypto_prices_df = combine_crypto_csvs(csv_folder)\n",
    "\n",
    "# Guardar el DataFrame combinado en un archivo CSV\n",
    "crypto_prices_df.to_csv(\"combined_crypto_prices.csv\")\n",
    "print(\"Datos combinados guardados en 'combined_crypto_prices.csv'.\")\n",
    "\n",
    "# Mostrar el DataFrame combinado\n",
    "print(crypto_prices_df.head())"
   ]
  },
  {
   "cell_type": "code",
   "execution_count": 5,
   "metadata": {},
   "outputs": [],
   "source": [
    "def portafolio(data, total_investment: int, obj: str, start_date: str, end_date: str, date: bool, freq: int):\n",
    "\n",
    "    if date:\n",
    "        data = data.loc[start_date:end_date]\n",
    "\n",
    "    mu = expected_returns.mean_historical_return(data, frequency=freq)\n",
    "    s = risk_models.sample_cov(data, frequency=freq)\n",
    "\n",
    "    ef = EfficientFrontier(mu, s)\n",
    "    \n",
    "    if obj == \"max sharpe\":\n",
    "        weights = ef.max_sharpe()\n",
    "\n",
    "    elif obj == \"min volatuility\":\n",
    "        weights = ef.min_volatility()\n",
    "\n",
    "    elif obj == \"max return\":\n",
    "        weights = ef.max_quadratic_utility()\n",
    "\n",
    "    elif obj == \"efficient_risk\":\n",
    "        weights = ef.efficient_risk(0.1)\n",
    "\n",
    "    elif obj == \"efficient_return\":\n",
    "        weights = ef.efficient_return(0.1)\n",
    "\n",
    "    amounts = ef.clean_weights()\n",
    "\n",
    "    for crypto, weight in weights.items():\n",
    "        amounts[crypto] = weight * total_investment\n",
    "\n",
    "    print(f\"Amounts to invest in each crypto to {obj}:\")\n",
    "    for crypto, amount in amounts.items():\n",
    "        if amount > 0:\n",
    "            print(f\"{crypto}: ${amount:.2f}\")\n",
    "\n",
    "    print(\"\\nExpected return, volatility and Sharpe ratio:\")\n",
    "\n",
    "    print(ef.portfolio_performance(verbose=True))\n",
    "\n",
    "    return"
   ]
  },
  {
   "cell_type": "markdown",
   "metadata": {},
   "source": [
    "### Ejemplos"
   ]
  },
  {
   "cell_type": "code",
   "execution_count": 6,
   "metadata": {},
   "outputs": [],
   "source": [
    "data = crypto_prices_df"
   ]
  },
  {
   "cell_type": "code",
   "execution_count": 11,
   "metadata": {},
   "outputs": [
    {
     "name": "stdout",
     "output_type": "stream",
     "text": [
      "Amounts to invest in each crypto to max return:\n",
      "dogecoin: $62.58\n",
      "ripple: $937.42\n",
      "\n",
      "Expected return, volatility and Sharpe ratio:\n",
      "Expected annual return: 224.4%\n",
      "Annual volatility: 78.1%\n",
      "Sharpe Ratio: 2.85\n",
      "(2.244268952512581, 0.7805516651018862, 2.849611437600668)\n"
     ]
    },
    {
     "name": "stderr",
     "output_type": "stream",
     "text": [
      "c:\\Users\\herie\\AppData\\Local\\Programs\\Python\\Python312\\Lib\\site-packages\\pypfopt\\expected_returns.py:56: FutureWarning: The default fill_method='pad' in DataFrame.pct_change is deprecated and will be removed in a future version. Either fill in any non-leading NA values prior to calling pct_change or specify 'fill_method=None' to not fill NA values.\n",
      "  returns = prices.pct_change().dropna(how=\"all\")\n",
      "c:\\Users\\herie\\AppData\\Local\\Programs\\Python\\Python312\\Lib\\site-packages\\pypfopt\\expected_returns.py:56: FutureWarning: The default fill_method='pad' in DataFrame.pct_change is deprecated and will be removed in a future version. Either fill in any non-leading NA values prior to calling pct_change or specify 'fill_method=None' to not fill NA values.\n",
      "  returns = prices.pct_change().dropna(how=\"all\")\n"
     ]
    }
   ],
   "source": [
    "portafolio(data, 1000, \"max return\", \"2023-12-14\", \"2024-12-12\", date=False, freq=365)"
   ]
  },
  {
   "cell_type": "code",
   "execution_count": 10,
   "metadata": {},
   "outputs": [
    {
     "name": "stdout",
     "output_type": "stream",
     "text": [
      "Amounts to invest in each crypto to max sharpe:\n",
      "aave: $58.07\n",
      "binancecoin: $352.15\n",
      "dogecoin: $68.33\n",
      "ripple: $445.67\n",
      "tron: $75.78\n",
      "\n",
      "Expected return, volatility and Sharpe ratio:\n",
      "Expected annual return: 178.6%\n",
      "Annual volatility: 54.7%\n",
      "Sharpe Ratio: 3.23\n",
      "(1.785599541169462, 0.5472400993309415, 3.226370917131425)\n"
     ]
    },
    {
     "name": "stderr",
     "output_type": "stream",
     "text": [
      "c:\\Users\\herie\\AppData\\Local\\Programs\\Python\\Python312\\Lib\\site-packages\\pypfopt\\expected_returns.py:56: FutureWarning: The default fill_method='pad' in DataFrame.pct_change is deprecated and will be removed in a future version. Either fill in any non-leading NA values prior to calling pct_change or specify 'fill_method=None' to not fill NA values.\n",
      "  returns = prices.pct_change().dropna(how=\"all\")\n",
      "c:\\Users\\herie\\AppData\\Local\\Programs\\Python\\Python312\\Lib\\site-packages\\pypfopt\\expected_returns.py:56: FutureWarning: The default fill_method='pad' in DataFrame.pct_change is deprecated and will be removed in a future version. Either fill in any non-leading NA values prior to calling pct_change or specify 'fill_method=None' to not fill NA values.\n",
      "  returns = prices.pct_change().dropna(how=\"all\")\n"
     ]
    }
   ],
   "source": [
    "portafolio(data, 1000, \"max sharpe\", \"2023-12-14\", \"2024-11-12\", date=False, freq=365)"
   ]
  }
 ],
 "metadata": {
  "kernelspec": {
   "display_name": "Python 3",
   "language": "python",
   "name": "python3"
  },
  "language_info": {
   "codemirror_mode": {
    "name": "ipython",
    "version": 3
   },
   "file_extension": ".py",
   "mimetype": "text/x-python",
   "name": "python",
   "nbconvert_exporter": "python",
   "pygments_lexer": "ipython3",
   "version": "3.12.1"
  }
 },
 "nbformat": 4,
 "nbformat_minor": 2
}
