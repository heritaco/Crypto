{
 "cells": [
  {
   "cell_type": "markdown",
   "metadata": {},
   "source": [
    "# **Descargar datos**"
   ]
  },
  {
   "cell_type": "code",
   "execution_count": 2,
   "metadata": {},
   "outputs": [],
   "source": [
    "import pandas as pd\n",
    "import requests\n",
    "import time\n",
    "import os\n",
    "from datetime import datetime"
   ]
  },
  {
   "cell_type": "code",
   "execution_count": 2,
   "metadata": {},
   "outputs": [],
   "source": [
    "def get_crypto_prices(crypto_id, currency=\"usd\", days=365):\n",
    "\n",
    "    url = f\"https://api.coingecko.com/api/v3/coins/{crypto_id}/market_chart\"\n",
    "    params = {\"vs_currency\": currency, \"days\": days, \"interval\": \"daily\"}\n",
    "    response = requests.get(url, params=params)\n",
    "\n",
    "    # Si la respuesta es exitosa, se procesan los datos\n",
    "    if response.status_code == 200:\n",
    "\n",
    "        # Se convierte la respuesta a un DataFrame\n",
    "        data = response.json()[\"prices\"]\n",
    "        df = pd.DataFrame(data, columns=[\"timestamp\", \"adjusted_price\"])\n",
    "        df[\"timestamp\"] = pd.to_datetime(df[\"timestamp\"], unit=\"ms\")\n",
    "\n",
    "        # Se guarda el archivo en la carpeta \"crypto_data_YYYY-MM-DD\"\n",
    "        today = datetime.now().strftime(\"%Y-%m-%d\")\n",
    "        folder = f\"crypto_data_{today}_{days}\"\n",
    "        if not os.path.exists(folder):\n",
    "            os.makedirs(folder)\n",
    "\n",
    "        filename = f\"{folder}/{crypto_id}_prices.csv\"\n",
    "        df.to_csv(filename, index=False)\n",
    "\n",
    "        print(f\"Precios de {crypto_id} guardados en {filename}\")        \n",
    "        return None # No hay errores\n",
    "    \n",
    "    \n",
    "    # Si la respuesta no es exitosa, se imprime un mensaje de error\n",
    "    else:\n",
    "        print(f\"Error al obtener datos de {crypto_id}: {response.status_code}\")\n",
    "        \n",
    "        if response.status_code == 429:\n",
    "            print(f\"Demasiadas peticiones. Esperando {response.headers['Retry-After']} segundos.\")\n",
    "            time.sleep(int(response.headers[\"Retry-After\"]))\n",
    "            get_crypto_prices(crypto_id, currency, days)\n",
    "            \n",
    "        return response.status_code"
   ]
  },
  {
   "cell_type": "code",
   "execution_count": 3,
   "metadata": {},
   "outputs": [],
   "source": [
    "# Lista de 50 criptomonedas\n",
    "cryptos = [\n",
    "    \"bitcoin\", \"ethereum\", \"tether\", \"binancecoin\", \"usd-coin\",\n",
    "    \"ripple\", \"cardano\", \"solana\", \"dogecoin\", \"polkadot\",\n",
    "    \"shiba-inu\", \"dai\", \"tron\", \"avalanche-2\", \"wrapped-bitcoin\",\n",
    "    \"uniswap\", \"litecoin\", \"chainlink\", \"cosmos\", \"stellar\",\n",
    "    \"monero\", \"algorand\", \"bitcoin-cash\", \"vechain\", \"filecoin\",\n",
    "    \"internet-computer\", \"hedera\", \"decentraland\", \"the-sandbox\", \"tezos\",\n",
    "    \"elrond-erd-2\", \"theta-token\", \"aave\", \"eos\", \"pancakeswap-token\",\n",
    "    \"flow\", \"zcash\", \"maker\", \"klay-token\", \"neo\",\n",
    "    \"iota\", \"fantom\", \"kusama\", \"waves\", \"dash\",\n",
    "    \"synthetix-network-token\", \"compound\", \"chiliz\", \"enjincoin\"\n",
    "]"
   ]
  },
  {
   "cell_type": "code",
   "execution_count": null,
   "metadata": {},
   "outputs": [],
   "source": [
    "for crypto in cryptos:\n",
    "    get_crypto_prices(crypto, days=365)"
   ]
  },
  {
   "cell_type": "markdown",
   "metadata": {},
   "source": [
    "Guardar todos los datos en uno"
   ]
  },
  {
   "cell_type": "code",
   "execution_count": 3,
   "metadata": {},
   "outputs": [],
   "source": [
    "csv_folder = \"crypto_data_2024-12-19_365\"  # Carpeta donde están los CSV"
   ]
  },
  {
   "cell_type": "code",
   "execution_count": 4,
   "metadata": {},
   "outputs": [],
   "source": [
    "all_data = {}  # Diccionario para almacenar datos de cada criptomoneda\n",
    "\n",
    "for file in os.listdir(csv_folder):\n",
    "    if file.endswith(\".csv\"):\n",
    "        crypto_name = file.replace(\"_prices.csv\", \"\")  # Obtener nombre de la cripto\n",
    "        file_path = os.path.join(csv_folder, file)\n",
    "        df = pd.read_csv(file_path)  # Leer el CSV\n",
    "        df[\"timestamp\"] = pd.to_datetime(df[\"timestamp\"])  # Asegurar formato datetime\n",
    "        df = df.set_index(\"timestamp\")  # Usar fecha como índice\n",
    "        all_data[crypto_name] = df[\"adjusted_price\"]  # Guardar precios ajustados\n",
    "\n",
    "# Crear DataFrame con todos los datos\n",
    "data_crypto = pd.DataFrame(all_data)"
   ]
  },
  {
   "cell_type": "code",
   "execution_count": 7,
   "metadata": {},
   "outputs": [],
   "source": [
    "data_crypto.dropna(inplace=True)  # Eliminar filas con valores nulos"
   ]
  },
  {
   "cell_type": "code",
   "execution_count": 8,
   "metadata": {},
   "outputs": [],
   "source": [
    "data_crypto.to_csv(\"data_crypto.csv\")"
   ]
  },
  {
   "cell_type": "code",
   "execution_count": 9,
   "metadata": {},
   "outputs": [
    {
     "name": "stdout",
     "output_type": "stream",
     "text": [
      "                  aave  algorand  avalanche-2  binancecoin  bitcoin-cash  \\\n",
      "timestamp                                                                  \n",
      "2023-12-22  101.455626  0.223064    46.054342   271.073933    233.085976   \n",
      "2023-12-23  100.128661  0.240550    45.495661   271.431453    238.659824   \n",
      "2023-12-24   99.410580  0.235473    48.114413   271.254301    233.224955   \n",
      "2023-12-25   99.848301  0.231077    47.790837   264.652850    229.111577   \n",
      "2023-12-26  103.189056  0.238222    48.359525   267.178800    234.926906   \n",
      "\n",
      "                 bitcoin   cardano  chainlink     cosmos       dai  ...  \\\n",
      "timestamp                                                           ...   \n",
      "2023-12-22  43849.699599  0.636310  15.279277  11.398848  0.999468  ...   \n",
      "2023-12-23  44003.696022  0.623618  15.497920  11.391916  0.998671  ...   \n",
      "2023-12-24  43752.030885  0.614803  15.681732  11.314822  0.998909  ...   \n",
      "2023-12-25  43034.971063  0.593090  15.291259  11.245503  0.998111  ...   \n",
      "2023-12-26  43638.236302  0.625764  15.612646  11.945480  0.999041  ...   \n",
      "\n",
      "               tezos  the-sandbox  theta-token      tron   uniswap  usd-coin  \\\n",
      "timestamp                                                                      \n",
      "2023-12-22  0.928467     0.545338     1.168133  0.104508  6.169052  1.000498   \n",
      "2023-12-23  0.983034     0.541841     1.157293  0.105108  6.401297  1.000136   \n",
      "2023-12-24  0.988290     0.532471     1.144714  0.106748  6.334079  0.999769   \n",
      "2023-12-25  0.981200     0.564553     1.256954  0.106228  6.854675  0.999055   \n",
      "2023-12-26  1.041883     0.606782     1.419915  0.105938  6.972945  1.000511   \n",
      "\n",
      "             vechain     waves  wrapped-bitcoin      zcash  \n",
      "timestamp                                                   \n",
      "2023-12-22  0.034842  2.636469     43761.077043  29.884749  \n",
      "2023-12-23  0.036054  2.662041     44014.314851  30.340858  \n",
      "2023-12-24  0.035537  2.755174     43728.130123  30.311281  \n",
      "2023-12-25  0.034582  2.633761     43007.399555  30.151456  \n",
      "2023-12-26  0.038160  2.731558     43562.129129  31.229903  \n",
      "\n",
      "[5 rows x 44 columns]\n"
     ]
    }
   ],
   "source": [
    "print(data_crypto.head())"
   ]
  }
 ],
 "metadata": {
  "kernelspec": {
   "display_name": "Python 3",
   "language": "python",
   "name": "python3"
  },
  "language_info": {
   "codemirror_mode": {
    "name": "ipython",
    "version": 3
   },
   "file_extension": ".py",
   "mimetype": "text/x-python",
   "name": "python",
   "nbconvert_exporter": "python",
   "pygments_lexer": "ipython3",
   "version": "3.12.1"
  }
 },
 "nbformat": 4,
 "nbformat_minor": 2
}
