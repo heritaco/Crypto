{
 "cells": [
  {
   "cell_type": "code",
   "execution_count": 2,
   "metadata": {},
   "outputs": [],
   "source": [
    "import pandas as pd\n",
    "\n",
    "from pypfopt.efficient_frontier import EfficientFrontier\n",
    "from pypfopt import risk_models\n",
    "from pypfopt import expected_returns"
   ]
  },
  {
   "cell_type": "code",
   "execution_count": 9,
   "metadata": {},
   "outputs": [],
   "source": [
    "def portafolio(data, total_investment: int, obj: str, start_date: str, end_date: str, date: bool, freq: int):\n",
    "\n",
    "    if date:\n",
    "        data = data.loc[start_date:end_date]\n",
    "\n",
    "    mu = expected_returns.mean_historical_return(data, frequency=freq)\n",
    "    s = risk_models.sample_cov(data, frequency=freq)\n",
    "\n",
    "    ef = EfficientFrontier(mu, s)\n",
    "    \n",
    "    if obj == \"max sharpe\":\n",
    "        weights = ef.max_sharpe()\n",
    "\n",
    "    elif obj == \"min volatuility\":\n",
    "        weights = ef.min_volatility()\n",
    "\n",
    "    elif obj == \"max return\":\n",
    "        weights = ef.max_quadratic_utility()\n",
    "\n",
    "    elif obj == \"efficient_risk\":\n",
    "        weights = ef.efficient_risk(0.1)\n",
    "\n",
    "    elif obj == \"efficient_return\":\n",
    "        weights = ef.efficient_return(0.1)\n",
    "\n",
    "    amounts = ef.clean_weights()\n",
    "\n",
    "    for crypto, weight in weights.items():\n",
    "        amounts[crypto] = weight * total_investment\n",
    "\n",
    "    print(f\"Amounts to invest in each crypto to {obj}:\")\n",
    "    for crypto, amount in amounts.items():\n",
    "        if amount > 0:\n",
    "            print(f\"{crypto}: ${amount:.2f}\")\n",
    "\n",
    "    print(\"\\nExpected return, volatility and Sharpe ratio:\")\n",
    "\n",
    "    print(ef.portfolio_performance(verbose=True))\n",
    "\n",
    "    return"
   ]
  },
  {
   "cell_type": "code",
   "execution_count": 12,
   "metadata": {},
   "outputs": [],
   "source": [
    "data = pd.read_csv(\"data_crypto.csv\", index_col=\"timestamp\", parse_dates=True)"
   ]
  },
  {
   "cell_type": "code",
   "execution_count": 13,
   "metadata": {},
   "outputs": [
    {
     "name": "stdout",
     "output_type": "stream",
     "text": [
      "Amounts to invest in each crypto to max return:\n",
      "dogecoin: $53.83\n",
      "ripple: $946.17\n",
      "\n",
      "Expected return, volatility and Sharpe ratio:\n",
      "Expected annual return: 261.5%\n",
      "Annual volatility: 82.7%\n",
      "Sharpe Ratio: 3.14\n",
      "(2.6150512336213696, 0.8266559194736784, 3.139215691183348)\n"
     ]
    }
   ],
   "source": [
    "portafolio(data, 1000, \"max return\", \"2023-12-14\", \"2024-12-12\", date=False, freq=365)"
   ]
  },
  {
   "cell_type": "code",
   "execution_count": 15,
   "metadata": {},
   "outputs": [
    {
     "name": "stdout",
     "output_type": "stream",
     "text": [
      "Amounts to invest in each crypto to max sharpe:\n",
      "aave: $67.98\n",
      "binancecoin: $347.40\n",
      "dogecoin: $66.25\n",
      "ripple: $441.60\n",
      "tron: $76.77\n",
      "\n",
      "Expected return, volatility and Sharpe ratio:\n",
      "Expected annual return: 208.3%\n",
      "Annual volatility: 57.7%\n",
      "Sharpe Ratio: 3.57\n",
      "(2.0828506637812634, 0.5774211433359498, 3.572523603592871)\n"
     ]
    }
   ],
   "source": [
    "portafolio(data, 1000, \"max sharpe\", \"2023-12-14\", \"2024-11-12\", date=False, freq=365)"
   ]
  }
 ],
 "metadata": {
  "kernelspec": {
   "display_name": "Python 3",
   "language": "python",
   "name": "python3"
  },
  "language_info": {
   "codemirror_mode": {
    "name": "ipython",
    "version": 3
   },
   "file_extension": ".py",
   "mimetype": "text/x-python",
   "name": "python",
   "nbconvert_exporter": "python",
   "pygments_lexer": "ipython3",
   "version": "3.12.1"
  }
 },
 "nbformat": 4,
 "nbformat_minor": 2
}
