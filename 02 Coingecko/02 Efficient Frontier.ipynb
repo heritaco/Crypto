{
 "cells": [
  {
   "cell_type": "code",
   "execution_count": 3,
   "metadata": {},
   "outputs": [],
   "source": [
    "import pandas as pd\n",
    "\n",
    "from pypfopt.efficient_frontier import EfficientFrontier\n",
    "from pypfopt import risk_models\n",
    "from pypfopt import expected_returns"
   ]
  },
  {
   "cell_type": "code",
   "execution_count": 5,
   "metadata": {},
   "outputs": [],
   "source": [
    "data = pd.read_csv(\"data_crypto.csv\", index_col=\"timestamp\", parse_dates=True)"
   ]
  },
  {
   "cell_type": "code",
   "execution_count": 8,
   "metadata": {},
   "outputs": [],
   "source": [
    "def portafolio(total_investment: float, objetive: str, frequency: int = 365, target: float = 0.1):\n",
    "\n",
    "    mu = expected_returns.mean_historical_return(data, frequency=frequency)\n",
    "    s = risk_models.sample_cov(data, frequency=frequency)\n",
    "\n",
    "    ef = EfficientFrontier(mu, s)\n",
    "    \n",
    "    if objetive == \"max sharpe\":\n",
    "        weights = ef.max_sharpe()\n",
    "\n",
    "    elif objetive == \"min volatuility\":\n",
    "        weights = ef.min_volatility()\n",
    "\n",
    "    elif objetive == \"max return\":\n",
    "        weights = ef.max_quadratic_utility()\n",
    "\n",
    "    elif objetive == \"efficient_risk\":\n",
    "        weights = ef.efficient_risk(target)\n",
    "\n",
    "    elif objetive == \"efficient_return\":\n",
    "        weights = ef.efficient_return(target)\n",
    "\n",
    "    amounts = ef.clean_weights()\n",
    "\n",
    "    for crypto, weight in weights.items():\n",
    "        amounts[crypto] = weight * total_investment\n",
    "\n",
    "    print(f\"Amounts to invest in each crypto to {objetive}:\")\n",
    "    for crypto, amount in amounts.items():\n",
    "        if amount > 0:\n",
    "            print(f\"{crypto}: ${amount:.2f}\")\n",
    "\n",
    "    print(\"\\nExpected return, volatility and Sharpe ratio:\")\n",
    "\n",
    "    print(ef.portfolio_performance(verbose=True))\n",
    "\n",
    "    return"
   ]
  },
  {
   "cell_type": "code",
   "execution_count": 9,
   "metadata": {},
   "outputs": [
    {
     "name": "stdout",
     "output_type": "stream",
     "text": [
      "Amounts to invest in each crypto to max return:\n",
      "dogecoin: $53.83\n",
      "ripple: $946.17\n",
      "\n",
      "Expected return, volatility and Sharpe ratio:\n",
      "Expected annual return: 261.5%\n",
      "Annual volatility: 82.7%\n",
      "Sharpe Ratio: 3.14\n",
      "(2.6150512336213696, 0.8266559194736784, 3.139215691183348)\n"
     ]
    }
   ],
   "source": [
    "portafolio(1000, \"max return\")"
   ]
  },
  {
   "cell_type": "code",
   "execution_count": 10,
   "metadata": {},
   "outputs": [
    {
     "name": "stdout",
     "output_type": "stream",
     "text": [
      "Amounts to invest in each crypto to max sharpe:\n",
      "aave: $67.98\n",
      "binancecoin: $347.40\n",
      "dogecoin: $66.25\n",
      "ripple: $441.60\n",
      "tron: $76.77\n",
      "\n",
      "Expected return, volatility and Sharpe ratio:\n",
      "Expected annual return: 208.3%\n",
      "Annual volatility: 57.7%\n",
      "Sharpe Ratio: 3.57\n",
      "(2.0828506637812634, 0.5774211433359498, 3.572523603592871)\n"
     ]
    }
   ],
   "source": [
    "portafolio(1000, \"max sharpe\")"
   ]
  }
 ],
 "metadata": {
  "kernelspec": {
   "display_name": "Python 3",
   "language": "python",
   "name": "python3"
  },
  "language_info": {
   "codemirror_mode": {
    "name": "ipython",
    "version": 3
   },
   "file_extension": ".py",
   "mimetype": "text/x-python",
   "name": "python",
   "nbconvert_exporter": "python",
   "pygments_lexer": "ipython3",
   "version": "3.12.1"
  }
 },
 "nbformat": 4,
 "nbformat_minor": 2
}
