{
 "cells": [
  {
   "cell_type": "markdown",
   "id": "1b28dadd",
   "metadata": {},
   "source": [
    "# **Random Forest**"
   ]
  },
  {
   "cell_type": "code",
   "execution_count": 1,
   "id": "d79e36fc",
   "metadata": {},
   "outputs": [],
   "source": [
    "import pandas as pd"
   ]
  },
  {
   "cell_type": "code",
   "execution_count": null,
   "id": "1001f9cd",
   "metadata": {},
   "outputs": [],
   "source": [
    "sp = pd.read_csv('S&P500-2025-01-10.csv')"
   ]
  },
  {
   "cell_type": "code",
   "execution_count": 97,
   "id": "3fd24424",
   "metadata": {},
   "outputs": [],
   "source": [
    "from sklearn.model_selection import train_test_split"
   ]
  },
  {
   "cell_type": "code",
   "execution_count": 99,
   "id": "e899799f",
   "metadata": {},
   "outputs": [],
   "source": [
    "X= sp.drop(columns=['Target'])\n",
    "y = sp['Target']\n",
    "\n",
    "# Split the data\n",
    "X_train, X_test, y_train, y_test = train_test_split(X, y, test_size=0.2, random_state=42)"
   ]
  },
  {
   "cell_type": "code",
   "execution_count": 104,
   "id": "b38b6130",
   "metadata": {},
   "outputs": [
    {
     "name": "stdout",
     "output_type": "stream",
     "text": [
      "Accuracy: 0.5226244343891403\n",
      "Classification Report:\n",
      "              precision    recall  f1-score   support\n",
      "\n",
      "           0       0.46      0.46      0.46       195\n",
      "           1       0.57      0.57      0.57       247\n",
      "\n",
      "    accuracy                           0.52       442\n",
      "   macro avg       0.52      0.52      0.52       442\n",
      "weighted avg       0.52      0.52      0.52       442\n",
      "\n",
      "Prediction for the last row: 0\n"
     ]
    }
   ],
   "source": [
    "X= sp.drop(columns=['Target'])\n",
    "y = sp['Target']\n",
    "\n",
    "# Split the data\n",
    "X_train, X_test, y_train, y_test = train_test_split(X, y, test_size=0.05, random_state=42)\n",
    "\n",
    "from sklearn.ensemble import RandomForestClassifier\n",
    "from sklearn.metrics import accuracy_score, classification_report\n",
    "\n",
    "# Initialize the model\n",
    "model = RandomForestClassifier(n_estimators=100, random_state=42)\n",
    "\n",
    "# Train the model\n",
    "model.fit(X_train, y_train)\n",
    "\n",
    "# Make predictions\n",
    "y_pred = model.predict(X_test)\n",
    "\n",
    "# Evaluate the model\n",
    "accuracy = accuracy_score(y_test, y_pred)\n",
    "report = classification_report(y_test, y_pred)\n",
    "\n",
    "print(f\"Accuracy: {accuracy}\")\n",
    "print(f\"Classification Report:\\n{report}\")\n",
    "\n",
    "# Get the prediction for the last row in the test set\n",
    "last_pred = y_pred[-1]\n",
    "\n",
    "print(f\"Prediction for the last row: {last_pred}\")"
   ]
  },
  {
   "cell_type": "code",
   "execution_count": 105,
   "id": "1d748f11",
   "metadata": {},
   "outputs": [
    {
     "name": "stdout",
     "output_type": "stream",
     "text": [
      "Fitting 5 folds for each of 108 candidates, totalling 540 fits\n",
      "Best parameters: {'max_depth': 10, 'min_samples_leaf': 2, 'min_samples_split': 2, 'n_estimators': 50}\n",
      "Accuracy: 0.5384615384615384\n",
      "Classification Report:\n",
      "              precision    recall  f1-score   support\n",
      "\n",
      "           0       0.43      0.14      0.21       195\n",
      "           1       0.56      0.85      0.67       247\n",
      "\n",
      "    accuracy                           0.54       442\n",
      "   macro avg       0.49      0.50      0.44       442\n",
      "weighted avg       0.50      0.54      0.47       442\n",
      "\n",
      "Prediction for the last row: 0\n"
     ]
    }
   ],
   "source": [
    "from sklearn.model_selection import GridSearchCV\n",
    "\n",
    "# Define the parameter grid\n",
    "param_grid = {\n",
    "    'n_estimators': [50, 100, 200],\n",
    "    'max_depth': [None, 10, 20, 30],\n",
    "    'min_samples_split': [2, 5, 10],\n",
    "    'min_samples_leaf': [1, 2, 4]\n",
    "}\n",
    "\n",
    "# Initialize the model\n",
    "model = RandomForestClassifier(random_state=42)\n",
    "\n",
    "# Initialize Grid Search\n",
    "grid_search = GridSearchCV(estimator=model, param_grid=param_grid, cv=5, n_jobs=-1, verbose=2)\n",
    "\n",
    "# Fit Grid Search\n",
    "grid_search.fit(X_train, y_train)\n",
    "\n",
    "# Get the best parameters\n",
    "best_params = grid_search.best_params_\n",
    "print(f\"Best parameters: {best_params}\")\n",
    "\n",
    "# Train the model with the best parameters\n",
    "best_model = grid_search.best_estimator_\n",
    "\n",
    "# Make predictions\n",
    "y_pred = best_model.predict(X_test)\n",
    "\n",
    "# Evaluate the model\n",
    "accuracy = accuracy_score(y_test, y_pred)\n",
    "report = classification_report(y_test, y_pred)\n",
    "\n",
    "print(f\"Accuracy: {accuracy}\")\n",
    "print(f\"Classification Report:\\n{report}\")\n",
    "\n",
    "# Get the prediction for the last row in the test set\n",
    "last_pred = y_pred[-1]\n",
    "print(f\"Prediction for the last row: {last_pred}\")"
   ]
  },
  {
   "cell_type": "code",
   "execution_count": 102,
   "id": "771f0b25",
   "metadata": {},
   "outputs": [
    {
     "data": {
      "text/plain": [
       "array([0.41, 0.55, 0.89, ..., 0.79, 0.21, 0.29])"
      ]
     },
     "execution_count": 102,
     "metadata": {},
     "output_type": "execute_result"
    }
   ],
   "source": [
    "y_pred"
   ]
  },
  {
   "cell_type": "code",
   "execution_count": 101,
   "id": "520a2f5e",
   "metadata": {},
   "outputs": [
    {
     "name": "stdout",
     "output_type": "stream",
     "text": [
      "Prediction for the last row: 0.29\n"
     ]
    }
   ],
   "source": [
    "# Get the prediction for the last row in the test set\n",
    "last_pred = y_pred[-1]\n",
    "\n",
    "print(f\"Prediction for the last row: {last_pred}\")"
   ]
  },
  {
   "cell_type": "markdown",
   "id": "a47367de",
   "metadata": {},
   "source": [
    "## 2"
   ]
  },
  {
   "cell_type": "code",
   "execution_count": 80,
   "id": "101a9617",
   "metadata": {},
   "outputs": [],
   "source": [
    "# Everything except the last 20% of rows\n",
    "p80 = int(len(sp)*0.95)\n",
    "\n",
    "train = sp.iloc[:p80]\n",
    "test = sp.iloc[p80:]"
   ]
  },
  {
   "cell_type": "code",
   "execution_count": 65,
   "id": "b0c7891f",
   "metadata": {},
   "outputs": [
    {
     "data": {
      "text/html": [
       "<div>\n",
       "<style scoped>\n",
       "    .dataframe tbody tr th:only-of-type {\n",
       "        vertical-align: middle;\n",
       "    }\n",
       "\n",
       "    .dataframe tbody tr th {\n",
       "        vertical-align: top;\n",
       "    }\n",
       "\n",
       "    .dataframe thead th {\n",
       "        text-align: right;\n",
       "    }\n",
       "</style>\n",
       "<table border=\"1\" class=\"dataframe\">\n",
       "  <thead>\n",
       "    <tr style=\"text-align: right;\">\n",
       "      <th></th>\n",
       "      <th>Open</th>\n",
       "      <th>High</th>\n",
       "      <th>Low</th>\n",
       "      <th>Close</th>\n",
       "      <th>Volume</th>\n",
       "      <th>Target</th>\n",
       "    </tr>\n",
       "    <tr>\n",
       "      <th>Date</th>\n",
       "      <th></th>\n",
       "      <th></th>\n",
       "      <th></th>\n",
       "      <th></th>\n",
       "      <th></th>\n",
       "      <th></th>\n",
       "    </tr>\n",
       "  </thead>\n",
       "  <tbody>\n",
       "    <tr>\n",
       "      <th>1990-01-02 05:00:00+00:00</th>\n",
       "      <td>353.399994</td>\n",
       "      <td>359.690002</td>\n",
       "      <td>351.980011</td>\n",
       "      <td>359.690002</td>\n",
       "      <td>162070000</td>\n",
       "      <td>0</td>\n",
       "    </tr>\n",
       "    <tr>\n",
       "      <th>1990-01-03 05:00:00+00:00</th>\n",
       "      <td>359.690002</td>\n",
       "      <td>360.589996</td>\n",
       "      <td>357.890015</td>\n",
       "      <td>358.760010</td>\n",
       "      <td>192330000</td>\n",
       "      <td>0</td>\n",
       "    </tr>\n",
       "    <tr>\n",
       "      <th>1990-01-04 05:00:00+00:00</th>\n",
       "      <td>358.760010</td>\n",
       "      <td>358.760010</td>\n",
       "      <td>352.890015</td>\n",
       "      <td>355.670013</td>\n",
       "      <td>177000000</td>\n",
       "      <td>0</td>\n",
       "    </tr>\n",
       "    <tr>\n",
       "      <th>1990-01-05 05:00:00+00:00</th>\n",
       "      <td>355.670013</td>\n",
       "      <td>355.670013</td>\n",
       "      <td>351.350006</td>\n",
       "      <td>352.200012</td>\n",
       "      <td>158530000</td>\n",
       "      <td>1</td>\n",
       "    </tr>\n",
       "    <tr>\n",
       "      <th>1990-01-08 05:00:00+00:00</th>\n",
       "      <td>352.200012</td>\n",
       "      <td>354.239990</td>\n",
       "      <td>350.540009</td>\n",
       "      <td>353.790009</td>\n",
       "      <td>140110000</td>\n",
       "      <td>0</td>\n",
       "    </tr>\n",
       "  </tbody>\n",
       "</table>\n",
       "</div>"
      ],
      "text/plain": [
       "                                 Open        High         Low       Close  \\\n",
       "Date                                                                        \n",
       "1990-01-02 05:00:00+00:00  353.399994  359.690002  351.980011  359.690002   \n",
       "1990-01-03 05:00:00+00:00  359.690002  360.589996  357.890015  358.760010   \n",
       "1990-01-04 05:00:00+00:00  358.760010  358.760010  352.890015  355.670013   \n",
       "1990-01-05 05:00:00+00:00  355.670013  355.670013  351.350006  352.200012   \n",
       "1990-01-08 05:00:00+00:00  352.200012  354.239990  350.540009  353.790009   \n",
       "\n",
       "                              Volume  Target  \n",
       "Date                                          \n",
       "1990-01-02 05:00:00+00:00  162070000       0  \n",
       "1990-01-03 05:00:00+00:00  192330000       0  \n",
       "1990-01-04 05:00:00+00:00  177000000       0  \n",
       "1990-01-05 05:00:00+00:00  158530000       1  \n",
       "1990-01-08 05:00:00+00:00  140110000       0  "
      ]
     },
     "execution_count": 65,
     "metadata": {},
     "output_type": "execute_result"
    }
   ],
   "source": [
    "train.head()"
   ]
  },
  {
   "cell_type": "code",
   "execution_count": 67,
   "id": "0fea96f1",
   "metadata": {},
   "outputs": [
    {
     "data": {
      "text/html": [
       "<div>\n",
       "<style scoped>\n",
       "    .dataframe tbody tr th:only-of-type {\n",
       "        vertical-align: middle;\n",
       "    }\n",
       "\n",
       "    .dataframe tbody tr th {\n",
       "        vertical-align: top;\n",
       "    }\n",
       "\n",
       "    .dataframe thead th {\n",
       "        text-align: right;\n",
       "    }\n",
       "</style>\n",
       "<table border=\"1\" class=\"dataframe\">\n",
       "  <thead>\n",
       "    <tr style=\"text-align: right;\">\n",
       "      <th></th>\n",
       "      <th>Open</th>\n",
       "      <th>High</th>\n",
       "      <th>Low</th>\n",
       "      <th>Close</th>\n",
       "      <th>Volume</th>\n",
       "      <th>Target</th>\n",
       "    </tr>\n",
       "    <tr>\n",
       "      <th>Date</th>\n",
       "      <th></th>\n",
       "      <th></th>\n",
       "      <th></th>\n",
       "      <th></th>\n",
       "      <th></th>\n",
       "      <th></th>\n",
       "    </tr>\n",
       "  </thead>\n",
       "  <tbody>\n",
       "    <tr>\n",
       "      <th>2018-01-04 05:00:00+00:00</th>\n",
       "      <td>2719.310059</td>\n",
       "      <td>2729.290039</td>\n",
       "      <td>2719.070068</td>\n",
       "      <td>2723.989990</td>\n",
       "      <td>3697340000</td>\n",
       "      <td>1</td>\n",
       "    </tr>\n",
       "    <tr>\n",
       "      <th>2018-01-05 05:00:00+00:00</th>\n",
       "      <td>2731.330078</td>\n",
       "      <td>2743.449951</td>\n",
       "      <td>2727.919922</td>\n",
       "      <td>2743.149902</td>\n",
       "      <td>3239280000</td>\n",
       "      <td>1</td>\n",
       "    </tr>\n",
       "    <tr>\n",
       "      <th>2018-01-08 05:00:00+00:00</th>\n",
       "      <td>2742.669922</td>\n",
       "      <td>2748.510010</td>\n",
       "      <td>2737.600098</td>\n",
       "      <td>2747.709961</td>\n",
       "      <td>3246160000</td>\n",
       "      <td>1</td>\n",
       "    </tr>\n",
       "    <tr>\n",
       "      <th>2018-01-09 05:00:00+00:00</th>\n",
       "      <td>2751.149902</td>\n",
       "      <td>2759.139893</td>\n",
       "      <td>2747.860107</td>\n",
       "      <td>2751.290039</td>\n",
       "      <td>3467460000</td>\n",
       "      <td>0</td>\n",
       "    </tr>\n",
       "    <tr>\n",
       "      <th>2018-01-10 05:00:00+00:00</th>\n",
       "      <td>2745.550049</td>\n",
       "      <td>2750.800049</td>\n",
       "      <td>2736.060059</td>\n",
       "      <td>2748.229980</td>\n",
       "      <td>3579900000</td>\n",
       "      <td>1</td>\n",
       "    </tr>\n",
       "  </tbody>\n",
       "</table>\n",
       "</div>"
      ],
      "text/plain": [
       "                                  Open         High          Low        Close  \\\n",
       "Date                                                                            \n",
       "2018-01-04 05:00:00+00:00  2719.310059  2729.290039  2719.070068  2723.989990   \n",
       "2018-01-05 05:00:00+00:00  2731.330078  2743.449951  2727.919922  2743.149902   \n",
       "2018-01-08 05:00:00+00:00  2742.669922  2748.510010  2737.600098  2747.709961   \n",
       "2018-01-09 05:00:00+00:00  2751.149902  2759.139893  2747.860107  2751.290039   \n",
       "2018-01-10 05:00:00+00:00  2745.550049  2750.800049  2736.060059  2748.229980   \n",
       "\n",
       "                               Volume  Target  \n",
       "Date                                           \n",
       "2018-01-04 05:00:00+00:00  3697340000       1  \n",
       "2018-01-05 05:00:00+00:00  3239280000       1  \n",
       "2018-01-08 05:00:00+00:00  3246160000       1  \n",
       "2018-01-09 05:00:00+00:00  3467460000       0  \n",
       "2018-01-10 05:00:00+00:00  3579900000       1  "
      ]
     },
     "execution_count": 67,
     "metadata": {},
     "output_type": "execute_result"
    }
   ],
   "source": [
    "test.head()"
   ]
  }
 ],
 "metadata": {
  "kernelspec": {
   "display_name": "Python 3",
   "language": "python",
   "name": "python3"
  },
  "language_info": {
   "codemirror_mode": {
    "name": "ipython",
    "version": 3
   },
   "file_extension": ".py",
   "mimetype": "text/x-python",
   "name": "python",
   "nbconvert_exporter": "python",
   "pygments_lexer": "ipython3",
   "version": "3.12.1"
  }
 },
 "nbformat": 4,
 "nbformat_minor": 5
}
