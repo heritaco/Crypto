{
 "cells": [
  {
   "cell_type": "code",
   "execution_count": 41,
   "metadata": {},
   "outputs": [],
   "source": [
    "import pandas as pd\n",
    "import numpy as np"
   ]
  },
  {
   "cell_type": "code",
   "execution_count": 42,
   "metadata": {},
   "outputs": [],
   "source": [
    "import plotly.graph_objects as go\n",
    "from plotly.offline import plot"
   ]
  },
  {
   "cell_type": "code",
   "execution_count": 43,
   "metadata": {},
   "outputs": [],
   "source": [
    "# Load stock prices from CSV\n",
    "file_path = \"crypto-data-2024-12-19-365/ripple.csv\"  # Replace with your file's path\n",
    "data = pd.read_csv(file_path)"
   ]
  },
  {
   "cell_type": "code",
   "execution_count": 44,
   "metadata": {},
   "outputs": [],
   "source": [
    "# Assuming the CSV has a column named 'Price'\n",
    "prices = data['adjusted_price']\n",
    "dates = data['timestamp']  # Optional, if you want to visualize dates"
   ]
  },
  {
   "cell_type": "code",
   "execution_count": 45,
   "metadata": {},
   "outputs": [],
   "source": [
    "# Calculate daily returns\n",
    "daily_returns = prices.pct_change().dropna()"
   ]
  },
  {
   "cell_type": "code",
   "execution_count": 46,
   "metadata": {},
   "outputs": [],
   "source": [
    "# Estimate parameters for Brownian motion\n",
    "mu = daily_returns.mean()  # Mean return\n",
    "sigma = daily_returns.std()  # Volatility"
   ]
  },
  {
   "cell_type": "code",
   "execution_count": 47,
   "metadata": {},
   "outputs": [],
   "source": [
    "# Simulate future prices using geometric Brownian motion\n",
    "def simulate_gbm(start_price, mu, sigma, time_horizon, steps):\n",
    "    dt = time_horizon / steps\n",
    "    price_path = [start_price]\n",
    "    for _ in range(steps):\n",
    "        price_path.append(price_path[-1] * np.exp((mu - 0.5 * sigma ** 2) * dt +\n",
    "                                                  sigma * np.sqrt(dt) * np.random.normal()))\n",
    "    return price_path"
   ]
  },
  {
   "cell_type": "code",
   "execution_count": 48,
   "metadata": {},
   "outputs": [],
   "source": [
    "# Parameters for simulation\n",
    "start_price = prices.iloc[-1]  # Start from the last known price\n",
    "time_horizon = 30  # Days\n",
    "steps = 100  # Simulation steps"
   ]
  },
  {
   "cell_type": "code",
   "execution_count": 49,
   "metadata": {},
   "outputs": [],
   "source": [
    "# Run simulation\n",
    "simulated_prices = simulate_gbm(start_price, mu, sigma, time_horizon, steps)"
   ]
  },
  {
   "cell_type": "code",
   "execution_count": 50,
   "metadata": {},
   "outputs": [
    {
     "data": {
      "application/vnd.plotly.v1+json": {
       "config": {
        "plotlyServerURL": "https://plot.ly"
       },
       "data": [
        {
         "line": {
          "color": "royalblue",
          "dash": "dash",
          "width": 2
         },
         "mode": "lines",
         "name": "Simulated Prices",
         "type": "scatter",
         "x": [
          0,
          1,
          2,
          3,
          4,
          5,
          6,
          7,
          8,
          9,
          10,
          11,
          12,
          13,
          14,
          15,
          16,
          17,
          18,
          19,
          20,
          21,
          22,
          23,
          24,
          25,
          26,
          27,
          28,
          29,
          30,
          31,
          32,
          33,
          34,
          35,
          36,
          37,
          38,
          39,
          40,
          41,
          42,
          43,
          44,
          45,
          46,
          47,
          48,
          49,
          50,
          51,
          52,
          53,
          54,
          55,
          56,
          57,
          58,
          59,
          60,
          61,
          62,
          63,
          64,
          65,
          66,
          67,
          68,
          69,
          70,
          71,
          72,
          73,
          74,
          75,
          76,
          77,
          78,
          79,
          80,
          81,
          82,
          83,
          84,
          85,
          86,
          87,
          88,
          89,
          90,
          91,
          92,
          93,
          94,
          95,
          96,
          97,
          98,
          99,
          100
         ],
         "y": [
          2.320678552692584,
          2.3777387721273127,
          2.365663909720901,
          2.313196798628068,
          2.269231725065348,
          2.254811849741623,
          2.2656823912645487,
          2.195615825669994,
          2.2605191193200165,
          2.130003826354713,
          2.1363940401138932,
          2.1625203688056818,
          2.1242385181308805,
          2.1911940019641873,
          2.2356715578253468,
          2.188863214341289,
          2.2448473736803267,
          2.136892248465106,
          2.1147186524966353,
          2.276471454456809,
          2.1674451330214723,
          2.158757162355721,
          2.1341523047764164,
          2.0715153143173506,
          2.0087867907079615,
          1.9393805355854263,
          1.9150429396453643,
          1.9359751058408625,
          1.9123081672563624,
          1.9398279495615236,
          1.8948853912184507,
          1.8641377737591112,
          1.8416901135934467,
          1.7767136177923506,
          1.7390776231855323,
          1.7467631988567678,
          1.8198964072350436,
          1.8102208683604417,
          1.8758849841912486,
          1.8388457006322105,
          1.8197533300756892,
          1.8403173426174142,
          1.8265728277542062,
          1.8102030027418274,
          1.8412297048015043,
          1.8289156391186427,
          1.739051092636505,
          1.6948513970884056,
          1.691636517266594,
          1.7277723764480364,
          1.8160071568551948,
          1.7624337850263565,
          1.7312361542196744,
          1.748102108607121,
          1.7677965456690157,
          1.7571220162824268,
          1.75999206925074,
          1.7651910759146274,
          1.7787052628370983,
          1.7830266808051485,
          1.7969409715649447,
          1.804531878002887,
          1.7935890422433436,
          1.7742059939352148,
          1.7770967438123617,
          1.7346698764419861,
          1.7163482749724948,
          1.7494525503668663,
          1.745724807325653,
          1.7455420750534654,
          1.756279928995819,
          1.7477992595501821,
          1.75754581817439,
          1.7560190486208456,
          1.7989764280166447,
          1.828726762466952,
          1.8728511361424303,
          1.8469661554550032,
          1.82085148835983,
          1.832857127760671,
          1.8662142608744745,
          1.8688579928466336,
          1.9504853585160855,
          1.9411142072045333,
          1.9817764014049737,
          1.9964085854878395,
          2.0494271169068616,
          2.1009206801875306,
          2.1668062210099355,
          2.1797754957014326,
          2.1900661103295453,
          2.2550797646904557,
          2.257971495792845,
          2.2209207739097123,
          2.208691498404939,
          2.160472775753456,
          2.1176192705176935,
          2.148758841373833,
          2.176077199240276,
          2.1386521449196314,
          2.0921216694787215
         ]
        }
       ],
       "layout": {
        "font": {
         "size": 14
        },
        "plot_bgcolor": "white",
        "template": {
         "data": {
          "bar": [
           {
            "error_x": {
             "color": "#2a3f5f"
            },
            "error_y": {
             "color": "#2a3f5f"
            },
            "marker": {
             "line": {
              "color": "#E5ECF6",
              "width": 0.5
             },
             "pattern": {
              "fillmode": "overlay",
              "size": 10,
              "solidity": 0.2
             }
            },
            "type": "bar"
           }
          ],
          "barpolar": [
           {
            "marker": {
             "line": {
              "color": "#E5ECF6",
              "width": 0.5
             },
             "pattern": {
              "fillmode": "overlay",
              "size": 10,
              "solidity": 0.2
             }
            },
            "type": "barpolar"
           }
          ],
          "carpet": [
           {
            "aaxis": {
             "endlinecolor": "#2a3f5f",
             "gridcolor": "white",
             "linecolor": "white",
             "minorgridcolor": "white",
             "startlinecolor": "#2a3f5f"
            },
            "baxis": {
             "endlinecolor": "#2a3f5f",
             "gridcolor": "white",
             "linecolor": "white",
             "minorgridcolor": "white",
             "startlinecolor": "#2a3f5f"
            },
            "type": "carpet"
           }
          ],
          "choropleth": [
           {
            "colorbar": {
             "outlinewidth": 0,
             "ticks": ""
            },
            "type": "choropleth"
           }
          ],
          "contour": [
           {
            "colorbar": {
             "outlinewidth": 0,
             "ticks": ""
            },
            "colorscale": [
             [
              0,
              "#0d0887"
             ],
             [
              0.1111111111111111,
              "#46039f"
             ],
             [
              0.2222222222222222,
              "#7201a8"
             ],
             [
              0.3333333333333333,
              "#9c179e"
             ],
             [
              0.4444444444444444,
              "#bd3786"
             ],
             [
              0.5555555555555556,
              "#d8576b"
             ],
             [
              0.6666666666666666,
              "#ed7953"
             ],
             [
              0.7777777777777778,
              "#fb9f3a"
             ],
             [
              0.8888888888888888,
              "#fdca26"
             ],
             [
              1,
              "#f0f921"
             ]
            ],
            "type": "contour"
           }
          ],
          "contourcarpet": [
           {
            "colorbar": {
             "outlinewidth": 0,
             "ticks": ""
            },
            "type": "contourcarpet"
           }
          ],
          "heatmap": [
           {
            "colorbar": {
             "outlinewidth": 0,
             "ticks": ""
            },
            "colorscale": [
             [
              0,
              "#0d0887"
             ],
             [
              0.1111111111111111,
              "#46039f"
             ],
             [
              0.2222222222222222,
              "#7201a8"
             ],
             [
              0.3333333333333333,
              "#9c179e"
             ],
             [
              0.4444444444444444,
              "#bd3786"
             ],
             [
              0.5555555555555556,
              "#d8576b"
             ],
             [
              0.6666666666666666,
              "#ed7953"
             ],
             [
              0.7777777777777778,
              "#fb9f3a"
             ],
             [
              0.8888888888888888,
              "#fdca26"
             ],
             [
              1,
              "#f0f921"
             ]
            ],
            "type": "heatmap"
           }
          ],
          "heatmapgl": [
           {
            "colorbar": {
             "outlinewidth": 0,
             "ticks": ""
            },
            "colorscale": [
             [
              0,
              "#0d0887"
             ],
             [
              0.1111111111111111,
              "#46039f"
             ],
             [
              0.2222222222222222,
              "#7201a8"
             ],
             [
              0.3333333333333333,
              "#9c179e"
             ],
             [
              0.4444444444444444,
              "#bd3786"
             ],
             [
              0.5555555555555556,
              "#d8576b"
             ],
             [
              0.6666666666666666,
              "#ed7953"
             ],
             [
              0.7777777777777778,
              "#fb9f3a"
             ],
             [
              0.8888888888888888,
              "#fdca26"
             ],
             [
              1,
              "#f0f921"
             ]
            ],
            "type": "heatmapgl"
           }
          ],
          "histogram": [
           {
            "marker": {
             "pattern": {
              "fillmode": "overlay",
              "size": 10,
              "solidity": 0.2
             }
            },
            "type": "histogram"
           }
          ],
          "histogram2d": [
           {
            "colorbar": {
             "outlinewidth": 0,
             "ticks": ""
            },
            "colorscale": [
             [
              0,
              "#0d0887"
             ],
             [
              0.1111111111111111,
              "#46039f"
             ],
             [
              0.2222222222222222,
              "#7201a8"
             ],
             [
              0.3333333333333333,
              "#9c179e"
             ],
             [
              0.4444444444444444,
              "#bd3786"
             ],
             [
              0.5555555555555556,
              "#d8576b"
             ],
             [
              0.6666666666666666,
              "#ed7953"
             ],
             [
              0.7777777777777778,
              "#fb9f3a"
             ],
             [
              0.8888888888888888,
              "#fdca26"
             ],
             [
              1,
              "#f0f921"
             ]
            ],
            "type": "histogram2d"
           }
          ],
          "histogram2dcontour": [
           {
            "colorbar": {
             "outlinewidth": 0,
             "ticks": ""
            },
            "colorscale": [
             [
              0,
              "#0d0887"
             ],
             [
              0.1111111111111111,
              "#46039f"
             ],
             [
              0.2222222222222222,
              "#7201a8"
             ],
             [
              0.3333333333333333,
              "#9c179e"
             ],
             [
              0.4444444444444444,
              "#bd3786"
             ],
             [
              0.5555555555555556,
              "#d8576b"
             ],
             [
              0.6666666666666666,
              "#ed7953"
             ],
             [
              0.7777777777777778,
              "#fb9f3a"
             ],
             [
              0.8888888888888888,
              "#fdca26"
             ],
             [
              1,
              "#f0f921"
             ]
            ],
            "type": "histogram2dcontour"
           }
          ],
          "mesh3d": [
           {
            "colorbar": {
             "outlinewidth": 0,
             "ticks": ""
            },
            "type": "mesh3d"
           }
          ],
          "parcoords": [
           {
            "line": {
             "colorbar": {
              "outlinewidth": 0,
              "ticks": ""
             }
            },
            "type": "parcoords"
           }
          ],
          "pie": [
           {
            "automargin": true,
            "type": "pie"
           }
          ],
          "scatter": [
           {
            "fillpattern": {
             "fillmode": "overlay",
             "size": 10,
             "solidity": 0.2
            },
            "type": "scatter"
           }
          ],
          "scatter3d": [
           {
            "line": {
             "colorbar": {
              "outlinewidth": 0,
              "ticks": ""
             }
            },
            "marker": {
             "colorbar": {
              "outlinewidth": 0,
              "ticks": ""
             }
            },
            "type": "scatter3d"
           }
          ],
          "scattercarpet": [
           {
            "marker": {
             "colorbar": {
              "outlinewidth": 0,
              "ticks": ""
             }
            },
            "type": "scattercarpet"
           }
          ],
          "scattergeo": [
           {
            "marker": {
             "colorbar": {
              "outlinewidth": 0,
              "ticks": ""
             }
            },
            "type": "scattergeo"
           }
          ],
          "scattergl": [
           {
            "marker": {
             "colorbar": {
              "outlinewidth": 0,
              "ticks": ""
             }
            },
            "type": "scattergl"
           }
          ],
          "scattermapbox": [
           {
            "marker": {
             "colorbar": {
              "outlinewidth": 0,
              "ticks": ""
             }
            },
            "type": "scattermapbox"
           }
          ],
          "scatterpolar": [
           {
            "marker": {
             "colorbar": {
              "outlinewidth": 0,
              "ticks": ""
             }
            },
            "type": "scatterpolar"
           }
          ],
          "scatterpolargl": [
           {
            "marker": {
             "colorbar": {
              "outlinewidth": 0,
              "ticks": ""
             }
            },
            "type": "scatterpolargl"
           }
          ],
          "scatterternary": [
           {
            "marker": {
             "colorbar": {
              "outlinewidth": 0,
              "ticks": ""
             }
            },
            "type": "scatterternary"
           }
          ],
          "surface": [
           {
            "colorbar": {
             "outlinewidth": 0,
             "ticks": ""
            },
            "colorscale": [
             [
              0,
              "#0d0887"
             ],
             [
              0.1111111111111111,
              "#46039f"
             ],
             [
              0.2222222222222222,
              "#7201a8"
             ],
             [
              0.3333333333333333,
              "#9c179e"
             ],
             [
              0.4444444444444444,
              "#bd3786"
             ],
             [
              0.5555555555555556,
              "#d8576b"
             ],
             [
              0.6666666666666666,
              "#ed7953"
             ],
             [
              0.7777777777777778,
              "#fb9f3a"
             ],
             [
              0.8888888888888888,
              "#fdca26"
             ],
             [
              1,
              "#f0f921"
             ]
            ],
            "type": "surface"
           }
          ],
          "table": [
           {
            "cells": {
             "fill": {
              "color": "#EBF0F8"
             },
             "line": {
              "color": "white"
             }
            },
            "header": {
             "fill": {
              "color": "#C8D4E3"
             },
             "line": {
              "color": "white"
             }
            },
            "type": "table"
           }
          ]
         },
         "layout": {
          "annotationdefaults": {
           "arrowcolor": "#2a3f5f",
           "arrowhead": 0,
           "arrowwidth": 1
          },
          "autotypenumbers": "strict",
          "coloraxis": {
           "colorbar": {
            "outlinewidth": 0,
            "ticks": ""
           }
          },
          "colorscale": {
           "diverging": [
            [
             0,
             "#8e0152"
            ],
            [
             0.1,
             "#c51b7d"
            ],
            [
             0.2,
             "#de77ae"
            ],
            [
             0.3,
             "#f1b6da"
            ],
            [
             0.4,
             "#fde0ef"
            ],
            [
             0.5,
             "#f7f7f7"
            ],
            [
             0.6,
             "#e6f5d0"
            ],
            [
             0.7,
             "#b8e186"
            ],
            [
             0.8,
             "#7fbc41"
            ],
            [
             0.9,
             "#4d9221"
            ],
            [
             1,
             "#276419"
            ]
           ],
           "sequential": [
            [
             0,
             "#0d0887"
            ],
            [
             0.1111111111111111,
             "#46039f"
            ],
            [
             0.2222222222222222,
             "#7201a8"
            ],
            [
             0.3333333333333333,
             "#9c179e"
            ],
            [
             0.4444444444444444,
             "#bd3786"
            ],
            [
             0.5555555555555556,
             "#d8576b"
            ],
            [
             0.6666666666666666,
             "#ed7953"
            ],
            [
             0.7777777777777778,
             "#fb9f3a"
            ],
            [
             0.8888888888888888,
             "#fdca26"
            ],
            [
             1,
             "#f0f921"
            ]
           ],
           "sequentialminus": [
            [
             0,
             "#0d0887"
            ],
            [
             0.1111111111111111,
             "#46039f"
            ],
            [
             0.2222222222222222,
             "#7201a8"
            ],
            [
             0.3333333333333333,
             "#9c179e"
            ],
            [
             0.4444444444444444,
             "#bd3786"
            ],
            [
             0.5555555555555556,
             "#d8576b"
            ],
            [
             0.6666666666666666,
             "#ed7953"
            ],
            [
             0.7777777777777778,
             "#fb9f3a"
            ],
            [
             0.8888888888888888,
             "#fdca26"
            ],
            [
             1,
             "#f0f921"
            ]
           ]
          },
          "colorway": [
           "#636efa",
           "#EF553B",
           "#00cc96",
           "#ab63fa",
           "#FFA15A",
           "#19d3f3",
           "#FF6692",
           "#B6E880",
           "#FF97FF",
           "#FECB52"
          ],
          "font": {
           "color": "#2a3f5f"
          },
          "geo": {
           "bgcolor": "white",
           "lakecolor": "white",
           "landcolor": "#E5ECF6",
           "showlakes": true,
           "showland": true,
           "subunitcolor": "white"
          },
          "hoverlabel": {
           "align": "left"
          },
          "hovermode": "closest",
          "mapbox": {
           "style": "light"
          },
          "paper_bgcolor": "white",
          "plot_bgcolor": "#E5ECF6",
          "polar": {
           "angularaxis": {
            "gridcolor": "white",
            "linecolor": "white",
            "ticks": ""
           },
           "bgcolor": "#E5ECF6",
           "radialaxis": {
            "gridcolor": "white",
            "linecolor": "white",
            "ticks": ""
           }
          },
          "scene": {
           "xaxis": {
            "backgroundcolor": "#E5ECF6",
            "gridcolor": "white",
            "gridwidth": 2,
            "linecolor": "white",
            "showbackground": true,
            "ticks": "",
            "zerolinecolor": "white"
           },
           "yaxis": {
            "backgroundcolor": "#E5ECF6",
            "gridcolor": "white",
            "gridwidth": 2,
            "linecolor": "white",
            "showbackground": true,
            "ticks": "",
            "zerolinecolor": "white"
           },
           "zaxis": {
            "backgroundcolor": "#E5ECF6",
            "gridcolor": "white",
            "gridwidth": 2,
            "linecolor": "white",
            "showbackground": true,
            "ticks": "",
            "zerolinecolor": "white"
           }
          },
          "shapedefaults": {
           "line": {
            "color": "#2a3f5f"
           }
          },
          "ternary": {
           "aaxis": {
            "gridcolor": "white",
            "linecolor": "white",
            "ticks": ""
           },
           "baxis": {
            "gridcolor": "white",
            "linecolor": "white",
            "ticks": ""
           },
           "bgcolor": "#E5ECF6",
           "caxis": {
            "gridcolor": "white",
            "linecolor": "white",
            "ticks": ""
           }
          },
          "title": {
           "x": 0.05
          },
          "xaxis": {
           "automargin": true,
           "gridcolor": "white",
           "linecolor": "white",
           "ticks": "",
           "title": {
            "standoff": 15
           },
           "zerolinecolor": "white",
           "zerolinewidth": 2
          },
          "yaxis": {
           "automargin": true,
           "gridcolor": "white",
           "linecolor": "white",
           "ticks": "",
           "title": {
            "standoff": 15
           },
           "zerolinecolor": "white",
           "zerolinewidth": 2
          }
         }
        },
        "title": {
         "text": "Stock Price Prediction using Geometric Brownian Motion"
        },
        "xaxis": {
         "gridcolor": "lightgrey",
         "showgrid": true,
         "title": {
          "text": "Time Step"
         }
        },
        "yaxis": {
         "gridcolor": "lightgrey",
         "showgrid": true,
         "title": {
          "text": "Price"
         }
        }
       }
      }
     },
     "metadata": {},
     "output_type": "display_data"
    }
   ],
   "source": [
    "# Create the plot\n",
    "fig = go.Figure()\n",
    "\n",
    "# Add the simulated prices line\n",
    "fig.add_trace(go.Scatter(\n",
    "    x=list(range(len(simulated_prices))),\n",
    "    y=simulated_prices,\n",
    "    mode='lines',\n",
    "    name='Simulated Prices',\n",
    "    line=dict(color='royalblue', width=2, dash='dash')\n",
    "))\n",
    "\n",
    "# Update layout for aesthetics\n",
    "fig.update_layout(\n",
    "    title='Stock Price Prediction using Geometric Brownian Motion',\n",
    "    xaxis_title='Time Step',\n",
    "    yaxis_title='Price',\n",
    "    font=dict(size=14),\n",
    "    plot_bgcolor='white',\n",
    "    xaxis=dict(showgrid=True, gridcolor='lightgrey'),\n",
    "    yaxis=dict(showgrid=True, gridcolor='lightgrey')\n",
    ")"
   ]
  },
  {
   "cell_type": "code",
   "execution_count": 51,
   "metadata": {},
   "outputs": [],
   "source": [
    "# Render the plot in HTML\n",
    "# plot(fig)"
   ]
  },
  {
   "cell_type": "code",
   "execution_count": 52,
   "metadata": {},
   "outputs": [],
   "source": [
    "# Run simulation 10 times\n",
    "simulations = []\n",
    "for _ in range(5):\n",
    "    simulated_prices = simulate_gbm(start_price, mu, sigma, time_horizon, steps)\n",
    "    simulations.append(simulated_prices)"
   ]
  },
  {
   "cell_type": "code",
   "execution_count": 53,
   "metadata": {},
   "outputs": [
    {
     "data": {
      "application/vnd.plotly.v1+json": {
       "config": {
        "plotlyServerURL": "https://plot.ly"
       },
       "data": [
        {
         "line": {
          "color": "royalblue",
          "dash": "dash",
          "width": 2
         },
         "mode": "lines",
         "name": "Simulation 1",
         "type": "scatter",
         "x": [
          0,
          1,
          2,
          3,
          4,
          5,
          6,
          7,
          8,
          9,
          10,
          11,
          12,
          13,
          14,
          15,
          16,
          17,
          18,
          19,
          20,
          21,
          22,
          23,
          24,
          25,
          26,
          27,
          28,
          29,
          30,
          31,
          32,
          33,
          34,
          35,
          36,
          37,
          38,
          39,
          40,
          41,
          42,
          43,
          44,
          45,
          46,
          47,
          48,
          49,
          50,
          51,
          52,
          53,
          54,
          55,
          56,
          57,
          58,
          59,
          60,
          61,
          62,
          63,
          64,
          65,
          66,
          67,
          68,
          69,
          70,
          71,
          72,
          73,
          74,
          75,
          76,
          77,
          78,
          79,
          80,
          81,
          82,
          83,
          84,
          85,
          86,
          87,
          88,
          89,
          90,
          91,
          92,
          93,
          94,
          95,
          96,
          97,
          98,
          99,
          100
         ],
         "y": [
          2.320678552692584,
          2.240815980315473,
          2.238007707892285,
          2.2874528151753077,
          2.3277459812951315,
          2.2802376966345235,
          2.2168100554123553,
          2.208941231272592,
          2.2309394597147163,
          2.2343925074564344,
          2.227617574897912,
          2.19314598759145,
          2.1641538946084733,
          2.221325803184724,
          2.31462274706295,
          2.3516493453086507,
          2.3066203319811995,
          2.2634477525329197,
          2.215209532230318,
          2.124838040195349,
          2.142080640906968,
          2.2300494406988616,
          2.2537234260241537,
          2.1050978258342776,
          2.0767787996003753,
          2.0683175980570203,
          2.0402953130345827,
          1.9966103992215634,
          1.9648320819412735,
          1.9419092455984217,
          1.887986033442762,
          1.9066509420532565,
          1.9373205898032562,
          1.9648308653159994,
          1.9504373011446454,
          1.9761959336120065,
          1.9709248063903322,
          1.9721069966586158,
          1.933389584945153,
          1.997766112784382,
          1.930052188383714,
          1.9637641251846552,
          1.986677181693094,
          2.0277861936629447,
          2.059421040400328,
          2.0326677916128815,
          2.0183025055634407,
          2.0227502813471463,
          2.0481548825264597,
          2.046532628889217,
          2.069648206926604,
          2.105562718768384,
          2.0824731035879624,
          2.101513786242386,
          2.080571327207921,
          2.0135889984802167,
          1.9120889136980006,
          1.912381647328979,
          1.994027365786704,
          2.0422464032794143,
          2.0266306184031952,
          2.030464957341575,
          2.0152856578562783,
          1.962761297791186,
          1.9542268455678018,
          1.8970468865725298,
          1.9853053682108206,
          1.987505554058982,
          2.002264621217738,
          1.956411444848218,
          1.9840829498244186,
          2.010175067374909,
          2.021062661420247,
          1.9394793657200635,
          1.8756475039444371,
          1.887441729151704,
          1.8925479113615278,
          1.8513827987585691,
          1.795446766310991,
          1.805389055758585,
          1.8436269980048996,
          1.8684334195055043,
          1.7873997624903248,
          1.8150764437451796,
          1.8350734766422587,
          1.868412900367539,
          1.8776744835838919,
          1.9104984200649373,
          1.8910959734851374,
          1.8688405111957893,
          1.8956480569013332,
          1.8983756130151082,
          1.929602551114826,
          1.939666689054073,
          1.9355405930424217,
          1.8992970902797075,
          1.861234257232803,
          1.863620673131923,
          1.8893266727221165,
          1.8757360761811612,
          1.8259915243383975
         ]
        },
        {
         "line": {
          "color": "royalblue",
          "dash": "dash",
          "width": 2
         },
         "mode": "lines",
         "name": "Simulation 2",
         "type": "scatter",
         "x": [
          0,
          1,
          2,
          3,
          4,
          5,
          6,
          7,
          8,
          9,
          10,
          11,
          12,
          13,
          14,
          15,
          16,
          17,
          18,
          19,
          20,
          21,
          22,
          23,
          24,
          25,
          26,
          27,
          28,
          29,
          30,
          31,
          32,
          33,
          34,
          35,
          36,
          37,
          38,
          39,
          40,
          41,
          42,
          43,
          44,
          45,
          46,
          47,
          48,
          49,
          50,
          51,
          52,
          53,
          54,
          55,
          56,
          57,
          58,
          59,
          60,
          61,
          62,
          63,
          64,
          65,
          66,
          67,
          68,
          69,
          70,
          71,
          72,
          73,
          74,
          75,
          76,
          77,
          78,
          79,
          80,
          81,
          82,
          83,
          84,
          85,
          86,
          87,
          88,
          89,
          90,
          91,
          92,
          93,
          94,
          95,
          96,
          97,
          98,
          99,
          100
         ],
         "y": [
          2.320678552692584,
          2.434949035115807,
          2.420610107305852,
          2.4080198396993993,
          2.3865658215494294,
          2.428270183323308,
          2.3989120168746645,
          2.4693425185904103,
          2.5711252813267715,
          2.524891313865981,
          2.6015804636930766,
          2.672015413026303,
          2.7103053622712587,
          2.6710269347455347,
          2.584523051780355,
          2.679432310572169,
          2.8156967305095004,
          2.7688456067712006,
          2.7215334899406654,
          2.6503946506681664,
          2.673475614808572,
          2.758880711481505,
          2.7797214414699103,
          2.701082595837613,
          2.6684692002512818,
          2.607740705424245,
          2.769549191488208,
          2.756304857697472,
          2.8072548753312563,
          2.84222571106612,
          2.8847042405920833,
          2.905912588905967,
          2.94047353761235,
          2.957266877554507,
          2.882387081484127,
          2.9311842719498467,
          2.9006696810056734,
          2.801827308294298,
          2.744531590204222,
          2.774182181596214,
          2.6918530412189865,
          2.6921606835514225,
          2.7262427599585592,
          2.710579165020703,
          2.7227215928160753,
          2.6198857976731893,
          2.5610883730852083,
          2.58821690997848,
          2.6020999175942943,
          2.6646779923335258,
          2.621519247209138,
          2.6875310675433446,
          2.717945916636155,
          2.824449060751154,
          2.7447350087382794,
          2.7297448028369837,
          2.7699250289235864,
          2.912089328396023,
          2.889306187810424,
          2.8224177673986954,
          2.821041462010865,
          2.882504024376336,
          2.9872241865078264,
          2.9352125699217035,
          3.0657690525592014,
          2.963936863598005,
          2.905350811990852,
          2.9548942384827797,
          3.0367157594030414,
          2.9654010358545166,
          3.0763676585953545,
          3.0085080311909542,
          3.0487083836196724,
          3.05341615910829,
          2.9623957022155225,
          2.8728816633762273,
          2.955896674057852,
          3.177028334235492,
          3.3628611361477123,
          3.3208654056559603,
          3.3378242970013337,
          3.3812610129347114,
          3.3621396271563855,
          3.5189574822281395,
          3.369672781609848,
          3.2817158495387324,
          3.3629179196938694,
          3.369068946119154,
          3.3440992207834963,
          3.3710248041429627,
          3.4158251865123757,
          3.3487487117272825,
          3.3394472428352286,
          3.340157435644168,
          3.4280790139940525,
          3.3576468124359966,
          3.3184676687895016,
          3.32663616486085,
          3.2601470164556394,
          3.283893306841483,
          3.2764363008331308
         ]
        },
        {
         "line": {
          "color": "royalblue",
          "dash": "dash",
          "width": 2
         },
         "mode": "lines",
         "name": "Simulation 3",
         "type": "scatter",
         "x": [
          0,
          1,
          2,
          3,
          4,
          5,
          6,
          7,
          8,
          9,
          10,
          11,
          12,
          13,
          14,
          15,
          16,
          17,
          18,
          19,
          20,
          21,
          22,
          23,
          24,
          25,
          26,
          27,
          28,
          29,
          30,
          31,
          32,
          33,
          34,
          35,
          36,
          37,
          38,
          39,
          40,
          41,
          42,
          43,
          44,
          45,
          46,
          47,
          48,
          49,
          50,
          51,
          52,
          53,
          54,
          55,
          56,
          57,
          58,
          59,
          60,
          61,
          62,
          63,
          64,
          65,
          66,
          67,
          68,
          69,
          70,
          71,
          72,
          73,
          74,
          75,
          76,
          77,
          78,
          79,
          80,
          81,
          82,
          83,
          84,
          85,
          86,
          87,
          88,
          89,
          90,
          91,
          92,
          93,
          94,
          95,
          96,
          97,
          98,
          99,
          100
         ],
         "y": [
          2.320678552692584,
          2.3012628306074263,
          2.3427265306470693,
          2.3084748858091797,
          2.3191302710162702,
          2.3596942588610985,
          2.438665597037317,
          2.458702004626331,
          2.3139621833456907,
          2.3004111853150424,
          2.2740336921574227,
          2.2947679067444455,
          2.314518500245517,
          2.301146931258323,
          2.3015505069213087,
          2.2960646841309185,
          2.379221991274883,
          2.480093349740594,
          2.520506229454435,
          2.5640660680817167,
          2.651045925549624,
          2.733560212709105,
          2.6570576030777633,
          2.6814303676973656,
          2.7288836067396556,
          2.7908522672306697,
          2.8108013133164778,
          2.87677574059719,
          2.947476489580314,
          2.9660657805968746,
          2.9278696856497683,
          2.983774443400364,
          2.816487208535599,
          2.832902679017142,
          2.846300353117455,
          2.9045761156778154,
          2.8499575472378345,
          2.8388359753143964,
          2.7795195436553044,
          2.669654626951132,
          2.59497410628151,
          2.658739376085138,
          2.618759626601104,
          2.785445034208001,
          2.7335819318845513,
          2.658008474465366,
          2.6271924402119535,
          2.6464053263745217,
          2.6126508425281947,
          2.573924477554586,
          2.620624966825264,
          2.704627052641026,
          2.722048591685996,
          2.7187624585340444,
          2.689260288301191,
          2.5979535849268633,
          2.571767037920141,
          2.622850481014758,
          2.654265164074675,
          2.6746887524374334,
          2.70522215503233,
          2.6955122250470938,
          2.7304610502869973,
          2.6094488403162206,
          2.530610033572557,
          2.5252837162733166,
          2.5207974083607967,
          2.4721405983987412,
          2.483774026441712,
          2.4564440313762974,
          2.430999119500778,
          2.4454379277172147,
          2.466059540493635,
          2.4607150256162633,
          2.577440423321261,
          2.714171645361638,
          2.7093883337891516,
          2.7065869579791584,
          2.630604914624216,
          2.6467650617707563,
          2.564085052838077,
          2.580500982559351,
          2.625084937250439,
          2.6028531249613054,
          2.5334383813458414,
          2.5686198915011325,
          2.591155946983195,
          2.49575032906713,
          2.4993564584501815,
          2.6203999270583633,
          2.6469792293520333,
          2.653509389545462,
          2.655577880014583,
          2.753721821524139,
          2.880427616577289,
          2.8255199723398543,
          2.8191503480469615,
          2.928076240142378,
          3.037000277256192,
          3.0509646645519837,
          3.1575717982246
         ]
        },
        {
         "line": {
          "color": "royalblue",
          "dash": "dash",
          "width": 2
         },
         "mode": "lines",
         "name": "Simulation 4",
         "type": "scatter",
         "x": [
          0,
          1,
          2,
          3,
          4,
          5,
          6,
          7,
          8,
          9,
          10,
          11,
          12,
          13,
          14,
          15,
          16,
          17,
          18,
          19,
          20,
          21,
          22,
          23,
          24,
          25,
          26,
          27,
          28,
          29,
          30,
          31,
          32,
          33,
          34,
          35,
          36,
          37,
          38,
          39,
          40,
          41,
          42,
          43,
          44,
          45,
          46,
          47,
          48,
          49,
          50,
          51,
          52,
          53,
          54,
          55,
          56,
          57,
          58,
          59,
          60,
          61,
          62,
          63,
          64,
          65,
          66,
          67,
          68,
          69,
          70,
          71,
          72,
          73,
          74,
          75,
          76,
          77,
          78,
          79,
          80,
          81,
          82,
          83,
          84,
          85,
          86,
          87,
          88,
          89,
          90,
          91,
          92,
          93,
          94,
          95,
          96,
          97,
          98,
          99,
          100
         ],
         "y": [
          2.320678552692584,
          2.3972831072659067,
          2.4370079433434464,
          2.445802703842061,
          2.563075765393517,
          2.6414728909888185,
          2.6799960063701356,
          2.787337178027281,
          2.8217990570541316,
          2.871390052977774,
          2.8657396753904445,
          2.8318797866733076,
          2.7723299733365154,
          2.5914203930063486,
          2.6175305186536915,
          2.733502730125602,
          2.6376764572463105,
          2.626482355609063,
          2.6136168763547256,
          2.560127614894911,
          2.590498294524416,
          2.6790345559565676,
          2.727740603297608,
          2.77031592011341,
          2.7617351289528957,
          2.7134227780163673,
          2.746201716709813,
          2.8112080305845453,
          2.736916934242557,
          2.7576752871811196,
          2.755452209122379,
          2.78758393597053,
          2.893988474801661,
          2.8334291338741777,
          2.895271317343628,
          2.871540334970616,
          2.9734924911870597,
          3.0133976303631593,
          2.993276687083551,
          3.05625946683484,
          3.1082843532683913,
          3.0871889988008028,
          3.0878086562379394,
          3.1260625155334916,
          3.1391257702543314,
          3.0859172213859916,
          3.0890101445621183,
          2.9895317195759246,
          3.0999963868585834,
          3.2047807887141464,
          3.282660944592003,
          3.320074009185572,
          3.2846030398234443,
          3.234299547312646,
          3.124076416766832,
          3.0418451449981125,
          3.049637492173666,
          3.049623738553837,
          3.0994086569009096,
          3.1048601400787645,
          3.113179579742868,
          3.1243815780691477,
          3.253044496227672,
          3.4168600992346887,
          3.4526853006891107,
          3.4620186936000774,
          3.4909637548418795,
          3.428356877022307,
          3.3660761019699175,
          3.3809032842007642,
          3.439281420375892,
          3.544663193298867,
          3.3825930288572597,
          3.380937874731012,
          3.456701144277959,
          3.520339029976662,
          3.5137302981064074,
          3.676403976431451,
          3.766538934572973,
          3.8029344076516858,
          3.7475547065312695,
          3.8225432671439665,
          3.8033404561457567,
          4.04647564101596,
          3.9990406124488205,
          4.011892856464544,
          3.979928785220109,
          3.9529510105141332,
          4.008671496463334,
          4.10826554658821,
          4.287961675860636,
          4.36431481210077,
          4.275145576081786,
          4.350190987445158,
          4.201816813352281,
          4.228225251881506,
          4.41142203237766,
          4.467559784451082,
          4.504834513024568,
          4.6496242687116185,
          4.729372706049834
         ]
        },
        {
         "line": {
          "color": "royalblue",
          "dash": "dash",
          "width": 2
         },
         "mode": "lines",
         "name": "Simulation 5",
         "type": "scatter",
         "x": [
          0,
          1,
          2,
          3,
          4,
          5,
          6,
          7,
          8,
          9,
          10,
          11,
          12,
          13,
          14,
          15,
          16,
          17,
          18,
          19,
          20,
          21,
          22,
          23,
          24,
          25,
          26,
          27,
          28,
          29,
          30,
          31,
          32,
          33,
          34,
          35,
          36,
          37,
          38,
          39,
          40,
          41,
          42,
          43,
          44,
          45,
          46,
          47,
          48,
          49,
          50,
          51,
          52,
          53,
          54,
          55,
          56,
          57,
          58,
          59,
          60,
          61,
          62,
          63,
          64,
          65,
          66,
          67,
          68,
          69,
          70,
          71,
          72,
          73,
          74,
          75,
          76,
          77,
          78,
          79,
          80,
          81,
          82,
          83,
          84,
          85,
          86,
          87,
          88,
          89,
          90,
          91,
          92,
          93,
          94,
          95,
          96,
          97,
          98,
          99,
          100
         ],
         "y": [
          2.320678552692584,
          2.3711484580129585,
          2.3139123408310223,
          2.3350310117099107,
          2.3881223782640686,
          2.436714516431803,
          2.515246480397583,
          2.4757790496017797,
          2.605633960538254,
          2.6256170688943645,
          2.611375262473865,
          2.564951019568984,
          2.466204862653324,
          2.5259779566575324,
          2.5068265059456807,
          2.5603026027667486,
          2.5194759651714116,
          2.5274384834461654,
          2.5722012721846235,
          2.5822602113909725,
          2.534041208971044,
          2.5693469715588364,
          2.601606889159944,
          2.600897570650983,
          2.7221220852558536,
          2.7111083084953735,
          2.820789993530489,
          2.8160732126611827,
          2.799672544205109,
          2.8005357051614412,
          2.7430199587823743,
          2.7436516666623083,
          2.7765767925576363,
          2.6793351272789248,
          2.696163569088702,
          2.7854969712431283,
          2.8638859967967707,
          2.7663238647378012,
          2.7955033371334705,
          2.7815171765510414,
          2.8817010910331997,
          2.893979352921746,
          2.8751945197601527,
          2.815834654888916,
          2.818660575888221,
          2.910531137375499,
          2.91524175475616,
          2.880352683917539,
          2.863530952090189,
          2.90073753013395,
          2.92986224500571,
          2.85238686523983,
          2.7979834301953868,
          2.779738756281292,
          2.688725168175767,
          2.5964005749896004,
          2.581214501560007,
          2.5424067193907263,
          2.5055609791790876,
          2.5160600468693057,
          2.5008134610526787,
          2.5103484310324333,
          2.5164463131443267,
          2.568333698022618,
          2.6594883395194238,
          2.7367960579127972,
          2.7722617064453963,
          2.7484171670829394,
          2.754284636599803,
          2.7674637544266947,
          2.6598492477359446,
          2.531813497976321,
          2.6137681538671913,
          2.609427771589495,
          2.605584007018265,
          2.711799324061445,
          2.665078865372354,
          2.6430224973158962,
          2.6390020365354303,
          2.636154619378049,
          2.744175122028874,
          2.6454430237430397,
          2.6423666076211134,
          2.6296596170336546,
          2.5002091267400868,
          2.471525289601124,
          2.4971690098164196,
          2.420718919024314,
          2.4229544344689047,
          2.5113651944732065,
          2.5781676226705783,
          2.573378470091591,
          2.5601564246317983,
          2.495281437776557,
          2.522532332447293,
          2.5831171684547733,
          2.59397386930452,
          2.626151617908378,
          2.682287597063776,
          2.6791024099368177,
          2.7295034850510986
         ]
        }
       ],
       "layout": {
        "font": {
         "size": 14
        },
        "plot_bgcolor": "white",
        "template": {
         "data": {
          "bar": [
           {
            "error_x": {
             "color": "#2a3f5f"
            },
            "error_y": {
             "color": "#2a3f5f"
            },
            "marker": {
             "line": {
              "color": "#E5ECF6",
              "width": 0.5
             },
             "pattern": {
              "fillmode": "overlay",
              "size": 10,
              "solidity": 0.2
             }
            },
            "type": "bar"
           }
          ],
          "barpolar": [
           {
            "marker": {
             "line": {
              "color": "#E5ECF6",
              "width": 0.5
             },
             "pattern": {
              "fillmode": "overlay",
              "size": 10,
              "solidity": 0.2
             }
            },
            "type": "barpolar"
           }
          ],
          "carpet": [
           {
            "aaxis": {
             "endlinecolor": "#2a3f5f",
             "gridcolor": "white",
             "linecolor": "white",
             "minorgridcolor": "white",
             "startlinecolor": "#2a3f5f"
            },
            "baxis": {
             "endlinecolor": "#2a3f5f",
             "gridcolor": "white",
             "linecolor": "white",
             "minorgridcolor": "white",
             "startlinecolor": "#2a3f5f"
            },
            "type": "carpet"
           }
          ],
          "choropleth": [
           {
            "colorbar": {
             "outlinewidth": 0,
             "ticks": ""
            },
            "type": "choropleth"
           }
          ],
          "contour": [
           {
            "colorbar": {
             "outlinewidth": 0,
             "ticks": ""
            },
            "colorscale": [
             [
              0,
              "#0d0887"
             ],
             [
              0.1111111111111111,
              "#46039f"
             ],
             [
              0.2222222222222222,
              "#7201a8"
             ],
             [
              0.3333333333333333,
              "#9c179e"
             ],
             [
              0.4444444444444444,
              "#bd3786"
             ],
             [
              0.5555555555555556,
              "#d8576b"
             ],
             [
              0.6666666666666666,
              "#ed7953"
             ],
             [
              0.7777777777777778,
              "#fb9f3a"
             ],
             [
              0.8888888888888888,
              "#fdca26"
             ],
             [
              1,
              "#f0f921"
             ]
            ],
            "type": "contour"
           }
          ],
          "contourcarpet": [
           {
            "colorbar": {
             "outlinewidth": 0,
             "ticks": ""
            },
            "type": "contourcarpet"
           }
          ],
          "heatmap": [
           {
            "colorbar": {
             "outlinewidth": 0,
             "ticks": ""
            },
            "colorscale": [
             [
              0,
              "#0d0887"
             ],
             [
              0.1111111111111111,
              "#46039f"
             ],
             [
              0.2222222222222222,
              "#7201a8"
             ],
             [
              0.3333333333333333,
              "#9c179e"
             ],
             [
              0.4444444444444444,
              "#bd3786"
             ],
             [
              0.5555555555555556,
              "#d8576b"
             ],
             [
              0.6666666666666666,
              "#ed7953"
             ],
             [
              0.7777777777777778,
              "#fb9f3a"
             ],
             [
              0.8888888888888888,
              "#fdca26"
             ],
             [
              1,
              "#f0f921"
             ]
            ],
            "type": "heatmap"
           }
          ],
          "heatmapgl": [
           {
            "colorbar": {
             "outlinewidth": 0,
             "ticks": ""
            },
            "colorscale": [
             [
              0,
              "#0d0887"
             ],
             [
              0.1111111111111111,
              "#46039f"
             ],
             [
              0.2222222222222222,
              "#7201a8"
             ],
             [
              0.3333333333333333,
              "#9c179e"
             ],
             [
              0.4444444444444444,
              "#bd3786"
             ],
             [
              0.5555555555555556,
              "#d8576b"
             ],
             [
              0.6666666666666666,
              "#ed7953"
             ],
             [
              0.7777777777777778,
              "#fb9f3a"
             ],
             [
              0.8888888888888888,
              "#fdca26"
             ],
             [
              1,
              "#f0f921"
             ]
            ],
            "type": "heatmapgl"
           }
          ],
          "histogram": [
           {
            "marker": {
             "pattern": {
              "fillmode": "overlay",
              "size": 10,
              "solidity": 0.2
             }
            },
            "type": "histogram"
           }
          ],
          "histogram2d": [
           {
            "colorbar": {
             "outlinewidth": 0,
             "ticks": ""
            },
            "colorscale": [
             [
              0,
              "#0d0887"
             ],
             [
              0.1111111111111111,
              "#46039f"
             ],
             [
              0.2222222222222222,
              "#7201a8"
             ],
             [
              0.3333333333333333,
              "#9c179e"
             ],
             [
              0.4444444444444444,
              "#bd3786"
             ],
             [
              0.5555555555555556,
              "#d8576b"
             ],
             [
              0.6666666666666666,
              "#ed7953"
             ],
             [
              0.7777777777777778,
              "#fb9f3a"
             ],
             [
              0.8888888888888888,
              "#fdca26"
             ],
             [
              1,
              "#f0f921"
             ]
            ],
            "type": "histogram2d"
           }
          ],
          "histogram2dcontour": [
           {
            "colorbar": {
             "outlinewidth": 0,
             "ticks": ""
            },
            "colorscale": [
             [
              0,
              "#0d0887"
             ],
             [
              0.1111111111111111,
              "#46039f"
             ],
             [
              0.2222222222222222,
              "#7201a8"
             ],
             [
              0.3333333333333333,
              "#9c179e"
             ],
             [
              0.4444444444444444,
              "#bd3786"
             ],
             [
              0.5555555555555556,
              "#d8576b"
             ],
             [
              0.6666666666666666,
              "#ed7953"
             ],
             [
              0.7777777777777778,
              "#fb9f3a"
             ],
             [
              0.8888888888888888,
              "#fdca26"
             ],
             [
              1,
              "#f0f921"
             ]
            ],
            "type": "histogram2dcontour"
           }
          ],
          "mesh3d": [
           {
            "colorbar": {
             "outlinewidth": 0,
             "ticks": ""
            },
            "type": "mesh3d"
           }
          ],
          "parcoords": [
           {
            "line": {
             "colorbar": {
              "outlinewidth": 0,
              "ticks": ""
             }
            },
            "type": "parcoords"
           }
          ],
          "pie": [
           {
            "automargin": true,
            "type": "pie"
           }
          ],
          "scatter": [
           {
            "fillpattern": {
             "fillmode": "overlay",
             "size": 10,
             "solidity": 0.2
            },
            "type": "scatter"
           }
          ],
          "scatter3d": [
           {
            "line": {
             "colorbar": {
              "outlinewidth": 0,
              "ticks": ""
             }
            },
            "marker": {
             "colorbar": {
              "outlinewidth": 0,
              "ticks": ""
             }
            },
            "type": "scatter3d"
           }
          ],
          "scattercarpet": [
           {
            "marker": {
             "colorbar": {
              "outlinewidth": 0,
              "ticks": ""
             }
            },
            "type": "scattercarpet"
           }
          ],
          "scattergeo": [
           {
            "marker": {
             "colorbar": {
              "outlinewidth": 0,
              "ticks": ""
             }
            },
            "type": "scattergeo"
           }
          ],
          "scattergl": [
           {
            "marker": {
             "colorbar": {
              "outlinewidth": 0,
              "ticks": ""
             }
            },
            "type": "scattergl"
           }
          ],
          "scattermapbox": [
           {
            "marker": {
             "colorbar": {
              "outlinewidth": 0,
              "ticks": ""
             }
            },
            "type": "scattermapbox"
           }
          ],
          "scatterpolar": [
           {
            "marker": {
             "colorbar": {
              "outlinewidth": 0,
              "ticks": ""
             }
            },
            "type": "scatterpolar"
           }
          ],
          "scatterpolargl": [
           {
            "marker": {
             "colorbar": {
              "outlinewidth": 0,
              "ticks": ""
             }
            },
            "type": "scatterpolargl"
           }
          ],
          "scatterternary": [
           {
            "marker": {
             "colorbar": {
              "outlinewidth": 0,
              "ticks": ""
             }
            },
            "type": "scatterternary"
           }
          ],
          "surface": [
           {
            "colorbar": {
             "outlinewidth": 0,
             "ticks": ""
            },
            "colorscale": [
             [
              0,
              "#0d0887"
             ],
             [
              0.1111111111111111,
              "#46039f"
             ],
             [
              0.2222222222222222,
              "#7201a8"
             ],
             [
              0.3333333333333333,
              "#9c179e"
             ],
             [
              0.4444444444444444,
              "#bd3786"
             ],
             [
              0.5555555555555556,
              "#d8576b"
             ],
             [
              0.6666666666666666,
              "#ed7953"
             ],
             [
              0.7777777777777778,
              "#fb9f3a"
             ],
             [
              0.8888888888888888,
              "#fdca26"
             ],
             [
              1,
              "#f0f921"
             ]
            ],
            "type": "surface"
           }
          ],
          "table": [
           {
            "cells": {
             "fill": {
              "color": "#EBF0F8"
             },
             "line": {
              "color": "white"
             }
            },
            "header": {
             "fill": {
              "color": "#C8D4E3"
             },
             "line": {
              "color": "white"
             }
            },
            "type": "table"
           }
          ]
         },
         "layout": {
          "annotationdefaults": {
           "arrowcolor": "#2a3f5f",
           "arrowhead": 0,
           "arrowwidth": 1
          },
          "autotypenumbers": "strict",
          "coloraxis": {
           "colorbar": {
            "outlinewidth": 0,
            "ticks": ""
           }
          },
          "colorscale": {
           "diverging": [
            [
             0,
             "#8e0152"
            ],
            [
             0.1,
             "#c51b7d"
            ],
            [
             0.2,
             "#de77ae"
            ],
            [
             0.3,
             "#f1b6da"
            ],
            [
             0.4,
             "#fde0ef"
            ],
            [
             0.5,
             "#f7f7f7"
            ],
            [
             0.6,
             "#e6f5d0"
            ],
            [
             0.7,
             "#b8e186"
            ],
            [
             0.8,
             "#7fbc41"
            ],
            [
             0.9,
             "#4d9221"
            ],
            [
             1,
             "#276419"
            ]
           ],
           "sequential": [
            [
             0,
             "#0d0887"
            ],
            [
             0.1111111111111111,
             "#46039f"
            ],
            [
             0.2222222222222222,
             "#7201a8"
            ],
            [
             0.3333333333333333,
             "#9c179e"
            ],
            [
             0.4444444444444444,
             "#bd3786"
            ],
            [
             0.5555555555555556,
             "#d8576b"
            ],
            [
             0.6666666666666666,
             "#ed7953"
            ],
            [
             0.7777777777777778,
             "#fb9f3a"
            ],
            [
             0.8888888888888888,
             "#fdca26"
            ],
            [
             1,
             "#f0f921"
            ]
           ],
           "sequentialminus": [
            [
             0,
             "#0d0887"
            ],
            [
             0.1111111111111111,
             "#46039f"
            ],
            [
             0.2222222222222222,
             "#7201a8"
            ],
            [
             0.3333333333333333,
             "#9c179e"
            ],
            [
             0.4444444444444444,
             "#bd3786"
            ],
            [
             0.5555555555555556,
             "#d8576b"
            ],
            [
             0.6666666666666666,
             "#ed7953"
            ],
            [
             0.7777777777777778,
             "#fb9f3a"
            ],
            [
             0.8888888888888888,
             "#fdca26"
            ],
            [
             1,
             "#f0f921"
            ]
           ]
          },
          "colorway": [
           "#636efa",
           "#EF553B",
           "#00cc96",
           "#ab63fa",
           "#FFA15A",
           "#19d3f3",
           "#FF6692",
           "#B6E880",
           "#FF97FF",
           "#FECB52"
          ],
          "font": {
           "color": "#2a3f5f"
          },
          "geo": {
           "bgcolor": "white",
           "lakecolor": "white",
           "landcolor": "#E5ECF6",
           "showlakes": true,
           "showland": true,
           "subunitcolor": "white"
          },
          "hoverlabel": {
           "align": "left"
          },
          "hovermode": "closest",
          "mapbox": {
           "style": "light"
          },
          "paper_bgcolor": "white",
          "plot_bgcolor": "#E5ECF6",
          "polar": {
           "angularaxis": {
            "gridcolor": "white",
            "linecolor": "white",
            "ticks": ""
           },
           "bgcolor": "#E5ECF6",
           "radialaxis": {
            "gridcolor": "white",
            "linecolor": "white",
            "ticks": ""
           }
          },
          "scene": {
           "xaxis": {
            "backgroundcolor": "#E5ECF6",
            "gridcolor": "white",
            "gridwidth": 2,
            "linecolor": "white",
            "showbackground": true,
            "ticks": "",
            "zerolinecolor": "white"
           },
           "yaxis": {
            "backgroundcolor": "#E5ECF6",
            "gridcolor": "white",
            "gridwidth": 2,
            "linecolor": "white",
            "showbackground": true,
            "ticks": "",
            "zerolinecolor": "white"
           },
           "zaxis": {
            "backgroundcolor": "#E5ECF6",
            "gridcolor": "white",
            "gridwidth": 2,
            "linecolor": "white",
            "showbackground": true,
            "ticks": "",
            "zerolinecolor": "white"
           }
          },
          "shapedefaults": {
           "line": {
            "color": "#2a3f5f"
           }
          },
          "ternary": {
           "aaxis": {
            "gridcolor": "white",
            "linecolor": "white",
            "ticks": ""
           },
           "baxis": {
            "gridcolor": "white",
            "linecolor": "white",
            "ticks": ""
           },
           "bgcolor": "#E5ECF6",
           "caxis": {
            "gridcolor": "white",
            "linecolor": "white",
            "ticks": ""
           }
          },
          "title": {
           "x": 0.05
          },
          "xaxis": {
           "automargin": true,
           "gridcolor": "white",
           "linecolor": "white",
           "ticks": "",
           "title": {
            "standoff": 15
           },
           "zerolinecolor": "white",
           "zerolinewidth": 2
          },
          "yaxis": {
           "automargin": true,
           "gridcolor": "white",
           "linecolor": "white",
           "ticks": "",
           "title": {
            "standoff": 15
           },
           "zerolinecolor": "white",
           "zerolinewidth": 2
          }
         }
        },
        "title": {
         "text": "Stock Price Prediction using Geometric Brownian Motion"
        },
        "xaxis": {
         "gridcolor": "lightgrey",
         "showgrid": true,
         "title": {
          "text": "Time Step"
         }
        },
        "yaxis": {
         "gridcolor": "lightgrey",
         "showgrid": true,
         "title": {
          "text": "Price"
         }
        }
       }
      }
     },
     "metadata": {},
     "output_type": "display_data"
    }
   ],
   "source": [
    "# Create the plot\n",
    "fig = go.Figure()\n",
    "\n",
    "# Add each simulated prices line\n",
    "for i, prices in enumerate(simulations):\n",
    "    fig.add_trace(go.Scatter(\n",
    "        x=list(range(len(prices))),\n",
    "        y=prices,\n",
    "        mode='lines',\n",
    "        name=f'Simulation {i+1}',\n",
    "        line=dict(color='royalblue', width=2, dash='dash')\n",
    "    ))\n",
    "\n",
    "# Update layout for aesthetics\n",
    "fig.update_layout(\n",
    "    title='Stock Price Prediction using Geometric Brownian Motion',\n",
    "    xaxis_title='Time Step',\n",
    "    yaxis_title='Price',\n",
    "    font=dict(size=14),\n",
    "    plot_bgcolor='white',\n",
    "    xaxis=dict(showgrid=True, gridcolor='lightgrey'),\n",
    "    yaxis=dict(showgrid=True, gridcolor='lightgrey')\n",
    ")"
   ]
  },
  {
   "cell_type": "code",
   "execution_count": null,
   "metadata": {},
   "outputs": [],
   "source": [
    "# Render the plot in HTML\n",
    "# plot(fig)"
   ]
  },
  {
   "cell_type": "markdown",
   "metadata": {},
   "source": [
    "This plot shows a simulated stock price prediction using **Geometric Brownian Motion (GBM)** over a given time horizon (30 days) with 100 time steps.\n",
    "\n",
    "### Key Aspects:\n",
    "1. **Starting Price**: \n",
    "   - The simulation begins at the last known price from your CSV file (e.g., `start_price`).\n",
    "   \n",
    "2. **Randomness**: \n",
    "   - The zig-zag nature of the line reflects the randomness inherent in stock price movements. This randomness is modeled using a Wiener process (a standard normal random variable scaled by volatility and time).\n",
    "\n",
    "3. **Drift**:\n",
    "   - The overall trend (upward or downward movement) is driven by the mean return (\\( \\mu \\)) over the observed historical data.\n",
    "   - Here, the trend is slightly upward, suggesting the stock historically has positive returns.\n",
    "\n",
    "4. **Volatility (\\( \\sigma \\))**:\n",
    "   - The fluctuations in the line are due to volatility. A higher volatility would lead to larger swings in the price path.\n",
    "\n",
    "5. **Simulation Time**:\n",
    "   - The x-axis represents simulation time steps (split into 100 points).\n",
    "   - The y-axis represents the simulated stock price.\n",
    "\n",
    "6. **Purpose**:\n",
    "   - GBM is often used to model financial assets because it incorporates randomness (volatility) and a drift component (average returns). \n",
    "   - This helps predict a range of possible future prices under the assumption that price changes follow a lognormal distribution.\n",
    "\n",
    "The chart shows one possible trajectory of the stock price over time, but it's important to note that due to the randomness, multiple simulations will yield different trajectories.\n",
    "\n",
    "Would you like me to run multiple simulations or calculate expected values for better insights?"
   ]
  },
  {
   "cell_type": "markdown",
   "metadata": {},
   "source": [
    "This plot shows a simulated stock price prediction using **Geometric Brownian Motion (GBM)** over a given time horizon (30 days) with 100 time steps.\n",
    "\n",
    "### Key Aspects:\n",
    "1. **Starting Price**: \n",
    "   - The simulation begins at the last known price from your CSV file (e.g., `start_price`).\n",
    "   \n",
    "2. **Randomness**: \n",
    "   - The zig-zag nature of the line reflects the randomness inherent in stock price movements. This randomness is modeled using a Wiener process (a standard normal random variable scaled by volatility and time).\n",
    "\n",
    "3. **Drift**:\n",
    "   - The overall trend (upward or downward movement) is driven by the mean return (\\( \\mu \\)) over the observed historical data.\n",
    "   - Here, the trend is slightly upward, suggesting the stock historically has positive returns.\n",
    "\n",
    "4. **Volatility (\\( \\sigma \\))**:\n",
    "   - The fluctuations in the line are due to volatility. A higher volatility would lead to larger swings in the price path.\n",
    "\n",
    "5. **Simulation Time**:\n",
    "   - The x-axis represents simulation time steps (split into 100 points).\n",
    "   - The y-axis represents the simulated stock price.\n",
    "\n",
    "6. **Purpose**:\n",
    "   - GBM is often used to model financial assets because it incorporates randomness (volatility) and a drift component (average returns). \n",
    "   - This helps predict a range of possible future prices under the assumption that price changes follow a lognormal distribution.\n",
    "\n",
    "The chart shows one possible trajectory of the stock price over time, but it's important to note that due to the randomness, multiple simulations will yield different trajectories.\n",
    "\n",
    "Would you like me to run multiple simulations or calculate expected values for better insights?"
   ]
  },
  {
   "cell_type": "markdown",
   "metadata": {},
   "source": [
    "The **100 steps** were chosen arbitrarily as a balance between granularity and computational simplicity. Here's why it matters and how you can adjust it:\n",
    "\n",
    "### Importance of the Number of Steps:\n",
    "1. **Granularity**:\n",
    "   - A higher number of steps divides the time horizon into smaller increments, leading to a smoother simulation. Each step represents a smaller time interval (\\( \\Delta t \\)).\n",
    "   - With fewer steps, the simulation becomes coarser, and price movements between steps are larger.\n",
    "\n",
    "2. **Accuracy**:\n",
    "   - Smaller time intervals (\\( \\Delta t \\)) reduce the approximation error in the geometric Brownian motion formula:\n",
    "     \\[\n",
    "     S_{t+\\Delta t} = S_t \\cdot \\exp\\left((\\mu - 0.5 \\sigma^2) \\Delta t + \\sigma \\sqrt{\\Delta t} \\cdot Z\\right),\n",
    "     \\]\n",
    "     where \\( Z \\) is a random variable from a standard normal distribution.\n",
    "   - If \\( \\Delta t \\) is too large, it might inaccurately model the stock's behavior.\n",
    "\n",
    "3. **Practicality**:\n",
    "   - Simulating with 100 steps gives enough detail to visualize the price movement without being computationally expensive.\n",
    "   - In real-world applications, especially for longer horizons, you might use more steps (e.g., 1,000 or more).\n",
    "\n",
    "### Choosing the Number of Steps:\n",
    "- **Short-Term Predictions**: Use fewer steps (e.g., 50–100) to avoid overcomplicating the model.\n",
    "- **Long-Term Predictions**: Use more steps (e.g., 500–1,000) for smoother and more realistic paths.\n",
    "- **Real-Time Applications**: The number of steps can depend on the time granularity of your data (e.g., daily prices might work well with 30–100 steps for monthly predictions).\n",
    "\n",
    "Would you like me to rerun the explanation or code with a different number of steps?"
   ]
  },
  {
   "cell_type": "markdown",
   "metadata": {},
   "source": [
    "Yes, we can simulate the portfolio's future performance using **Geometric Brownian Motion (GBM)** for **Dogecoin** and **Ripple** (and their weights in the portfolio). Here’s the step-by-step breakdown:\n",
    "\n",
    "### 1. **Inputs**:\n",
    "   - Initial amounts invested: $53.83 in Dogecoin and $946.17 in Ripple.\n",
    "   - Portfolio metrics:\n",
    "     - **Expected annual return**: \\( \\mu = 261.5\\% \\) (as a decimal: 2.615).\n",
    "     - **Volatility**: \\( \\sigma = 82.7\\% \\) (as a decimal: 0.827).\n",
    "     - **Sharpe Ratio**: 3.14 (risk-adjusted return indicator).\n",
    "   - Time horizon: E.g., 1 year (365 days), divided into smaller steps.\n",
    "\n",
    "### 2. **Simulating Each Asset**:\n",
    "Each cryptocurrency's price will be simulated using GBM:\n",
    "\\[\n",
    "S_{t+\\Delta t} = S_t \\cdot \\exp\\left((\\mu - 0.5 \\sigma^2) \\Delta t + \\sigma \\sqrt{\\Delta t} \\cdot Z\\right),\n",
    "\\]\n",
    "where:\n",
    "- \\( S_t \\): Current price.\n",
    "- \\( \\mu \\): Expected return.\n",
    "- \\( \\sigma \\): Volatility.\n",
    "- \\( \\Delta t \\): Time step.\n",
    "- \\( Z \\): Standard normal random variable.\n",
    "\n",
    "### 3. **Calculating Portfolio Value**:\n",
    "The portfolio value at each time step will be:\n",
    "\\[\n",
    "\\text{Portfolio Value} = \\text{Dogecoin Value} + \\text{Ripple Value}.\n",
    "\\]\n",
    "\n",
    "### 4. **Code**:\n",
    "Here’s how we can implement this in Python:\n",
    "\n",
    "```python\n",
    "import numpy as np\n",
    "import matplotlib.pyplot as plt\n",
    "\n",
    "# Initial investment\n",
    "dogecoin_investment = 53.83\n",
    "ripple_investment = 946.17\n",
    "\n",
    "# Portfolio metrics\n",
    "mu = 2.615  # Expected annual return (261.5%)\n",
    "sigma = 0.827  # Annual volatility (82.7%)\n",
    "time_horizon = 365  # Days (1 year)\n",
    "steps = 1000  # Simulation steps\n",
    "\n",
    "# Simulate GBM for each cryptocurrency\n",
    "def simulate_gbm(start_price, mu, sigma, time_horizon, steps):\n",
    "    dt = time_horizon / steps\n",
    "    price_path = [start_price]\n",
    "    for _ in range(steps):\n",
    "        price_path.append(price_path[-1] * np.exp((mu - 0.5 * sigma ** 2) * dt +\n",
    "                                                  sigma * np.sqrt(dt) * np.random.normal()))\n",
    "    return price_path\n",
    "\n",
    "# Simulating Dogecoin and Ripple\n",
    "dogecoin_prices = simulate_gbm(dogecoin_investment, mu, sigma, time_horizon, steps)\n",
    "ripple_prices = simulate_gbm(ripple_investment, mu, sigma, time_horizon, steps)\n",
    "\n",
    "# Calculate portfolio value at each time step\n",
    "portfolio_values = [doge + rip for doge, rip in zip(dogecoin_prices, ripple_prices)]\n",
    "\n",
    "# Plot results\n",
    "plt.figure(figsize=(12, 6))\n",
    "plt.plot(range(len(dogecoin_prices)), dogecoin_prices, label='Dogecoin Value')\n",
    "plt.plot(range(len(ripple_prices)), ripple_prices, label='Ripple Value')\n",
    "plt.plot(range(len(portfolio_values)), portfolio_values, label='Portfolio Value', linestyle='--', color='black')\n",
    "plt.xlabel('Time Step')\n",
    "plt.ylabel('Value ($)')\n",
    "plt.title('Simulated Portfolio Performance using GBM')\n",
    "plt.legend()\n",
    "plt.show()\n",
    "```\n",
    "\n",
    "### Output:\n",
    "- The chart will display:\n",
    "  1. The simulated price paths for **Dogecoin** and **Ripple**.\n",
    "  2. The **portfolio value** as a sum of both investments.\n",
    "  \n",
    "### Key Points:\n",
    "1. **Assumptions**:\n",
    "   - Both assets have the same expected return and volatility (\\( \\mu \\) and \\( \\sigma \\)).\n",
    "   - No correlation is assumed between the two assets. For more realism, we could include a covariance matrix to reflect their relationship.\n",
    "2. **Portfolio Metrics**:\n",
    "   - The portfolio’s **volatility**, **expected return**, and **Sharpe Ratio** are derived from the individual assets’ performance.\n",
    "\n",
    "Would you like me to modify the code to account for specific correlations or additional assets?"
   ]
  }
 ],
 "metadata": {
  "kernelspec": {
   "display_name": "Python 3",
   "language": "python",
   "name": "python3"
  },
  "language_info": {
   "codemirror_mode": {
    "name": "ipython",
    "version": 3
   },
   "file_extension": ".py",
   "mimetype": "text/x-python",
   "name": "python",
   "nbconvert_exporter": "python",
   "pygments_lexer": "ipython3",
   "version": "3.12.1"
  }
 },
 "nbformat": 4,
 "nbformat_minor": 2
}
