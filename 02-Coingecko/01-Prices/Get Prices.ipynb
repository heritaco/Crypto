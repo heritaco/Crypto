{
 "cells": [
  {
   "cell_type": "markdown",
   "metadata": {},
   "source": [
    "# **Download Data**"
   ]
  },
  {
   "cell_type": "code",
   "execution_count": 2,
   "metadata": {},
   "outputs": [],
   "source": [
    "import pandas as pd\n",
    "import requests\n",
    "import time\n",
    "import os\n",
    "from datetime import datetime"
   ]
  },
  {
   "cell_type": "code",
   "execution_count": 2,
   "metadata": {},
   "outputs": [],
   "source": [
    "def get_crypto_prices(crypto_id, currency=\"usd\", days=365):\n",
    "\n",
    "    url = f\"https://api.coingecko.com/api/v3/coins/{crypto_id}/market_chart\"\n",
    "    params = {\"vs_currency\": currency, \"days\": days, \"interval\": \"daily\"}\n",
    "    response = requests.get(url, params=params)\n",
    "\n",
    "    # Si la respuesta es exitosa, se procesan los datos\n",
    "    if response.status_code == 200:\n",
    "\n",
    "        # Se convierte la respuesta a un DataFrame\n",
    "        data = response.json()[\"prices\"]\n",
    "        df = pd.DataFrame(data, columns=[\"timestamp\", \"adjusted_price\"])\n",
    "        df[\"timestamp\"] = pd.to_datetime(df[\"timestamp\"], unit=\"ms\")\n",
    "\n",
    "        # Se guarda el archivo en la carpeta \"crypto_data_YYYY-MM-DD\"\n",
    "        today = datetime.now().strftime(\"%Y-%m-%d\")\n",
    "        folder = f\"crypto-prices-{today}-{days}\"\n",
    "        if not os.path.exists(folder):\n",
    "            os.makedirs(folder)\n",
    "\n",
    "        filename = f\"{folder}/{crypto_id}.csv\"\n",
    "        df.to_csv(filename, index=False)\n",
    "\n",
    "        print(f\"Precios de {crypto_id} guardados en {filename}\")        \n",
    "        return None # No hay errores\n",
    "    \n",
    "    \n",
    "    # Si la respuesta no es exitosa, se imprime un mensaje de error\n",
    "    else:\n",
    "        print(f\"Error al obtener datos de {crypto_id}: {response.status_code}\")\n",
    "        \n",
    "        if response.status_code == 429:\n",
    "            print(f\"Demasiadas peticiones. Esperando {response.headers['Retry-After']} segundos.\")\n",
    "            time.sleep(int(response.headers[\"Retry-After\"]))\n",
    "            get_crypto_prices(crypto_id, currency, days)\n",
    "            \n",
    "        return response.status_code"
   ]
  },
  {
   "cell_type": "code",
   "execution_count": 3,
   "metadata": {},
   "outputs": [],
   "source": [
    "# Lista de 50 criptomonedas\n",
    "cryptos = [\n",
    "    \"bitcoin\", \"ethereum\", \"tether\", \"binancecoin\", \"usd-coin\",\n",
    "    \"ripple\", \"cardano\", \"solana\", \"dogecoin\", \"polkadot\",\n",
    "    \"shiba-inu\", \"dai\", \"tron\", \"avalanche-2\", \"wrapped-bitcoin\",\n",
    "    \"uniswap\", \"litecoin\", \"chainlink\", \"cosmos\", \"stellar\",\n",
    "    \"monero\", \"algorand\", \"bitcoin-cash\", \"vechain\", \"filecoin\",\n",
    "    \"internet-computer\", \"hedera\", \"decentraland\", \"the-sandbox\", \"tezos\",\n",
    "    \"elrond-erd-2\", \"theta-token\", \"aave\", \"eos\", \"pancakeswap-token\",\n",
    "    \"flow\", \"zcash\", \"maker\", \"klay-token\", \"neo\",\n",
    "    \"iota\", \"fantom\", \"kusama\", \"waves\", \"dash\",\n",
    "    \"synthetix-network-token\", \"compound\", \"chiliz\", \"enjincoin\"\n",
    "]"
   ]
  },
  {
   "cell_type": "code",
   "execution_count": null,
   "metadata": {},
   "outputs": [],
   "source": [
    "for crypto in cryptos:\n",
    "    get_crypto_prices(crypto, days=365)"
   ]
  },
  {
   "cell_type": "markdown",
   "metadata": {},
   "source": [
    "# **All in One**"
   ]
  },
  {
   "cell_type": "code",
   "execution_count": 6,
   "metadata": {},
   "outputs": [],
   "source": [
    "csv_folder = \"C:\\\\Heri\\\\GitHub\\\\Crypto\\\\02-Coingecko\\\\crypto-data-2024-12-19-365\"  # Carpeta donde están los CSV"
   ]
  },
  {
   "cell_type": "code",
   "execution_count": 17,
   "metadata": {},
   "outputs": [],
   "source": [
    "all_data = {}  # Diccionario para almacenar datos de cada criptomoneda\n",
    "\n",
    "for file in os.listdir(csv_folder):\n",
    "    if file.endswith(\".csv\"):\n",
    "        crypto_name = file.replace(\".csv\", \"\")  # Obtener nombre de la cripto\n",
    "        file_path = os.path.join(csv_folder, file)\n",
    "        df = pd.read_csv(file_path)  # Leer el CSV\n",
    "        df[\"timestamp\"] = pd.to_datetime(df[\"timestamp\"])  # Asegurar formato datetime\n",
    "        df = df.set_index(\"timestamp\")  # Usar fecha como índice\n",
    "        all_data[crypto_name] = df[\"adjusted_price\"]  # Guardar precios ajustados\n",
    "\n",
    "# Crear DataFrame con todos los datos\n",
    "data_crypto = pd.DataFrame(all_data)"
   ]
  },
  {
   "cell_type": "code",
   "execution_count": 18,
   "metadata": {},
   "outputs": [],
   "source": [
    "data_crypto.dropna(inplace=True)  # Eliminar filas con valores nulos"
   ]
  },
  {
   "cell_type": "markdown",
   "metadata": {},
   "source": [
    "# **Create the average**"
   ]
  },
  {
   "cell_type": "code",
   "execution_count": 19,
   "metadata": {},
   "outputs": [],
   "source": [
    "# Calculate the average of all columns for each row\n",
    "data_crypto['average'] = data_crypto.mean(axis=1)"
   ]
  },
  {
   "cell_type": "code",
   "execution_count": 20,
   "metadata": {},
   "outputs": [],
   "source": [
    "data_crypto.to_csv(\"data-crypto.csv\")"
   ]
  }
 ],
 "metadata": {
  "kernelspec": {
   "display_name": "Python 3",
   "language": "python",
   "name": "python3"
  },
  "language_info": {
   "codemirror_mode": {
    "name": "ipython",
    "version": 3
   },
   "file_extension": ".py",
   "mimetype": "text/x-python",
   "name": "python",
   "nbconvert_exporter": "python",
   "pygments_lexer": "ipython3",
   "version": "3.12.1"
  }
 },
 "nbformat": 4,
 "nbformat_minor": 2
}
