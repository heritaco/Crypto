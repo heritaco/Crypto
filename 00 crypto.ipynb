{
 "cells": [
  {
   "cell_type": "markdown",
   "metadata": {},
   "source": [
    "# Portafolio de Crypto"
   ]
  },
  {
   "cell_type": "code",
   "execution_count": 1,
   "metadata": {},
   "outputs": [],
   "source": [
    "import pandas as pd\n",
    "import yfinance as yf\n",
    "\n",
    "from datetime import datetime\n",
    "\n",
    "from pypfopt.efficient_frontier import EfficientFrontier\n",
    "from pypfopt import risk_models\n",
    "from pypfopt import expected_returns"
   ]
  },
  {
   "cell_type": "code",
   "execution_count": 2,
   "metadata": {},
   "outputs": [],
   "source": [
    "cryptos = [\n",
    "    \"BTC-USD\",  # Bitcoin\n",
    "    \"ETH-USD\",  # Ethereum\n",
    "    \"USDT-USD\", # Tether\n",
    "    \"BNB-USD\",  # Binance Coin\n",
    "    \"USDC-USD\", # USD Coin\n",
    "    \"XRP-USD\",  # XRP\n",
    "    \"ADA-USD\",  # Cardano\n",
    "    \"SOL-USD\",  # Solana\n",
    "    \"DOGE-USD\", # Dogecoin\n",
    "    \"TRX-USD\",  # Tron\n",
    "    \"TON-USD\",  # Toncoin\n",
    "    \"MATIC-USD\",# Polygon\n",
    "    \"DOT-USD\",  # Polkadot\n",
    "    \"LTC-USD\",  # Litecoin\n",
    "    \"AVAX-USD\", # Avalanche\n",
    "    \"WBTC-USD\", # Wrapped Bitcoin\n",
    "    \"DAI-USD\"   # DAI\n",
    "]"
   ]
  },
  {
   "cell_type": "code",
   "execution_count": 3,
   "metadata": {},
   "outputs": [],
   "source": [
    "adj_close_list = []\n",
    "\n",
    "for crypto in cryptos:\n",
    "    stock = yf.Ticker(crypto)\n",
    "    hist = stock.history(period=\"max\")\n",
    "    adj_close_list.append(hist['Close'].rename(crypto))\n",
    "\n",
    "    # Concatenate all data into a single DataFrame\n",
    "    data = pd.concat(adj_close_list, axis=1)\n",
    "\n",
    "    # Save the adjusted close prices to a CSV file\n",
    "    data.to_csv(\"crypto_adj_close.csv\", index=True)"
   ]
  },
  {
   "cell_type": "code",
   "execution_count": 4,
   "metadata": {},
   "outputs": [],
   "source": [
    "data.dropna(inplace=True) # Inplace=True means that the changes are made to the original DataFrame"
   ]
  },
  {
   "cell_type": "code",
   "execution_count": 5,
   "metadata": {},
   "outputs": [],
   "source": [
    "# Calculate the expected annualized returns and the annualized sample covariance matrix of the daily asset returns\n",
    "mu = expected_returns.mean_historical_return(data)\n",
    "s = risk_models.sample_cov(data)"
   ]
  },
  {
   "cell_type": "code",
   "execution_count": 6,
   "metadata": {},
   "outputs": [
    {
     "data": {
      "text/plain": [
       "BTC-USD      0.457962\n",
       "ETH-USD      0.491725\n",
       "USDT-USD    -0.000249\n",
       "BNB-USD      0.739113\n",
       "USDC-USD    -0.000052\n",
       "XRP-USD      0.470542\n",
       "ADA-USD      0.520508\n",
       "SOL-USD      1.014671\n",
       "DOGE-USD     1.264650\n",
       "TRX-USD      0.492731\n",
       "TON-USD     -0.101069\n",
       "MATIC-USD    0.737916\n",
       "DOT-USD      0.126758\n",
       "LTC-USD      0.169909\n",
       "AVAX-USD     0.439322\n",
       "WBTC-USD     0.457218\n",
       "DAI-USD     -0.001905\n",
       "dtype: float64"
      ]
     },
     "execution_count": 6,
     "metadata": {},
     "output_type": "execute_result"
    }
   ],
   "source": [
    "mu"
   ]
  },
  {
   "cell_type": "code",
   "execution_count": 7,
   "metadata": {},
   "outputs": [],
   "source": [
    "ef = EfficientFrontier(mu, s)"
   ]
  },
  {
   "cell_type": "code",
   "execution_count": 8,
   "metadata": {},
   "outputs": [],
   "source": [
    "weights = ef.max_sharpe()"
   ]
  },
  {
   "cell_type": "code",
   "execution_count": 9,
   "metadata": {},
   "outputs": [
    {
     "data": {
      "text/plain": [
       "OrderedDict([('BTC-USD', 0.0),\n",
       "             ('ETH-USD', 0.0),\n",
       "             ('USDT-USD', 0.0),\n",
       "             ('BNB-USD', 0.4329051861376632),\n",
       "             ('USDC-USD', 0.0),\n",
       "             ('XRP-USD', 0.0),\n",
       "             ('ADA-USD', 0.0),\n",
       "             ('SOL-USD', 0.3380396719923829),\n",
       "             ('DOGE-USD', 0.1370702116581472),\n",
       "             ('TRX-USD', 0.0292929889857963),\n",
       "             ('TON-USD', 0.0),\n",
       "             ('MATIC-USD', 0.0),\n",
       "             ('DOT-USD', 0.0),\n",
       "             ('LTC-USD', 0.0),\n",
       "             ('AVAX-USD', 0.0),\n",
       "             ('WBTC-USD', 0.0626919412260105),\n",
       "             ('DAI-USD', 0.0)])"
      ]
     },
     "execution_count": 9,
     "metadata": {},
     "output_type": "execute_result"
    }
   ],
   "source": [
    "weights"
   ]
  },
  {
   "cell_type": "code",
   "execution_count": 10,
   "metadata": {},
   "outputs": [
    {
     "data": {
      "text/plain": [
       "OrderedDict([('BTC-USD', 0.0),\n",
       "             ('ETH-USD', 0.0),\n",
       "             ('USDT-USD', 0.0),\n",
       "             ('BNB-USD', 0.43291),\n",
       "             ('USDC-USD', 0.0),\n",
       "             ('XRP-USD', 0.0),\n",
       "             ('ADA-USD', 0.0),\n",
       "             ('SOL-USD', 0.33804),\n",
       "             ('DOGE-USD', 0.13707),\n",
       "             ('TRX-USD', 0.02929),\n",
       "             ('TON-USD', 0.0),\n",
       "             ('MATIC-USD', 0.0),\n",
       "             ('DOT-USD', 0.0),\n",
       "             ('LTC-USD', 0.0),\n",
       "             ('AVAX-USD', 0.0),\n",
       "             ('WBTC-USD', 0.06269),\n",
       "             ('DAI-USD', 0.0)])"
      ]
     },
     "execution_count": 10,
     "metadata": {},
     "output_type": "execute_result"
    }
   ],
   "source": [
    "# get how many money we will invest\n",
    "total_investment = 1000\n",
    "\n",
    "# get the amount of money we will invest in each crypto\n",
    "amounts = ef.clean_weights()\n",
    "amounts"
   ]
  },
  {
   "cell_type": "code",
   "execution_count": 11,
   "metadata": {},
   "outputs": [
    {
     "data": {
      "text/plain": [
       "OrderedDict([('BTC-USD', 0.0),\n",
       "             ('ETH-USD', 0.0),\n",
       "             ('USDT-USD', 0.0),\n",
       "             ('BNB-USD', 432.90518613766324),\n",
       "             ('USDC-USD', 0.0),\n",
       "             ('XRP-USD', 0.0),\n",
       "             ('ADA-USD', 0.0),\n",
       "             ('SOL-USD', 338.03967199238286),\n",
       "             ('DOGE-USD', 137.0702116581472),\n",
       "             ('TRX-USD', 29.292988985796303),\n",
       "             ('TON-USD', 0.0),\n",
       "             ('MATIC-USD', 0.0),\n",
       "             ('DOT-USD', 0.0),\n",
       "             ('LTC-USD', 0.0),\n",
       "             ('AVAX-USD', 0.0),\n",
       "             ('WBTC-USD', 62.691941226010506),\n",
       "             ('DAI-USD', 0.0)])"
      ]
     },
     "execution_count": 11,
     "metadata": {},
     "output_type": "execute_result"
    }
   ],
   "source": [
    "for crypto, weight in weights.items():\n",
    "    amounts[crypto] = weight * total_investment\n",
    "\n",
    "amounts"
   ]
  },
  {
   "cell_type": "code",
   "execution_count": 12,
   "metadata": {},
   "outputs": [
    {
     "name": "stdout",
     "output_type": "stream",
     "text": [
      "Amounts to invest in each crypto:\n",
      "BNB-USD: $432.91\n",
      "SOL-USD: $338.04\n",
      "DOGE-USD: $137.07\n",
      "TRX-USD: $29.29\n",
      "WBTC-USD: $62.69\n"
     ]
    }
   ],
   "source": [
    "print(\"Amounts to invest in each crypto:\")\n",
    "for crypto, amount in amounts.items():\n",
    "    if amount > 0:\n",
    "        print(f\"{crypto}: ${amount:.2f}\")"
   ]
  },
  {
   "cell_type": "code",
   "execution_count": 13,
   "metadata": {},
   "outputs": [
    {
     "name": "stdout",
     "output_type": "stream",
     "text": [
      "Expected annual return: 87.9%\n",
      "Annual volatility: 72.6%\n",
      "Sharpe Ratio: 1.18\n"
     ]
    },
    {
     "data": {
      "text/plain": [
       "(0.8794080456936608, 0.7256767594288964, 1.1842849237310702)"
      ]
     },
     "execution_count": 13,
     "metadata": {},
     "output_type": "execute_result"
    }
   ],
   "source": [
    "ef.portfolio_performance(verbose=True)"
   ]
  }
 ],
 "metadata": {
  "kernelspec": {
   "display_name": "Python 3",
   "language": "python",
   "name": "python3"
  },
  "language_info": {
   "codemirror_mode": {
    "name": "ipython",
    "version": 3
   },
   "file_extension": ".py",
   "mimetype": "text/x-python",
   "name": "python",
   "nbconvert_exporter": "python",
   "pygments_lexer": "ipython3",
   "version": "3.12.1"
  }
 },
 "nbformat": 4,
 "nbformat_minor": 2
}
